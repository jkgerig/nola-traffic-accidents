{
 "cells": [
  {
   "cell_type": "code",
   "execution_count": 1,
   "metadata": {},
   "outputs": [],
   "source": [
    "import numpy as np\n",
    "import pandas as pd\n",
    "import matplotlib.pyplot as plt"
   ]
  },
  {
   "cell_type": "code",
   "execution_count": 2,
   "metadata": {},
   "outputs": [],
   "source": [
    "df_calls = pd.read_pickle('../data/interim/traffic_calls.pickle')"
   ]
  },
  {
   "cell_type": "code",
   "execution_count": 3,
   "metadata": {},
   "outputs": [],
   "source": [
    "df_epr = pd.read_pickle('../data/interim/traffic_epr.pickle')"
   ]
  },
  {
   "cell_type": "code",
   "execution_count": 4,
   "metadata": {},
   "outputs": [],
   "source": [
    "target_charges = [\n",
    "    'RECKLESS OPERATION OF A VEHICLE',\n",
    "    'REASONABLE SAFETY - BACKING',\n",
    "    'ONE WAY ROADWAYS & TRAFFIC ISLANDS',\n",
    "    'FLIGHT FROM AN OFFICER',\n",
    "    'DISREGARDING STOP AND YIELD SIGNS',\n",
    "    'DRIVING WHILE INTOXICATED',\n",
    "    'CARELESS OPERATION OF A VEHICLE',\n",
    "    'TURNING AT INTERSECTIONS',\n",
    "    'EXCEEDING SAFE SPEED',\n",
    "    'EXCEEDING SPEED LIMIT',\n",
    "    'DRIVING ROADWAY LANED FOR TRAFFIC',\n",
    "    'DISREGARDING TRAFFIC CONTROL SIGN',\n",
    "    'DISREGARDING SIGNS AND SIGNALS',\n",
    "    'DRIVING ON ROADWAY LANED  / TRAFFIC',\n",
    "    'STOPPING AT STOP SIGNS',\n",
    "    'HIT & RUN DRIVING',\n",
    "    'DRIVING ON DIVIDED HIGHWAYS',\n",
    "    'FOLLOWING TOO CLOSELY',\n",
    "    'ESCAPE',\n",
    "    'INTIMIDATION',\n",
    "    'DRIVING TOO SLOWLY',\n",
    "    'OVERTAKING ON LEFT',\n",
    "    'IMPROPER USE OF TURN SIGNALS',\n",
    "    'DRIVING ON DIVIDED STREET - RULES',\n",
    "    'MUST YIELD TO EMERGENCY VEHICLE',\n",
    "    'OBEDIENCE TO TRAFFIC CONTROL',\n",
    "    'ONE WAY STREETS AND ALLEYWAYS',\n",
    "    'DRIVING IN PROHIBITED AREAS',\n",
    "    'OBEDIENCE TO TRAFFIC CONTROLS',\n",
    "    'SPEED LIMITS',\n",
    "    'MOVEMENT ON ONE WAY STREETS',\n",
    "    'YIELDING TO EMERGENCY VEHICLES',\n",
    "    'TRUCK ROUTE VIOLATIONS',\n",
    "    'VEHICLES ENTITLED TO RIGHT OF WAY',\n",
    "    'PROPER POSITION TO TURN',\n",
    "    'SPEED LIMITS - SCHOOL ZONES',\n",
    "    'OPENING VEHICLE DOOR IN TRAFFIC',\n",
    "    'PUBLIC DRUNK; DRUG INCAPACITATION']"
   ]
  },
  {
   "cell_type": "code",
   "execution_count": 5,
   "metadata": {},
   "outputs": [],
   "source": [
    "df_epr_hazards = df_epr[df_epr['Charge_Description'].isin(target_charges)].groupby('Item_Number').count()[['Charge_Description']]"
   ]
  },
  {
   "cell_type": "code",
   "execution_count": 6,
   "metadata": {},
   "outputs": [],
   "source": [
    "df_epr_hazards.columns = ['hazard_count']"
   ]
  },
  {
   "cell_type": "code",
   "execution_count": 7,
   "metadata": {},
   "outputs": [],
   "source": [
    "df_epr_hazards.index = df_epr_hazards.index.str.replace('-', '')"
   ]
  },
  {
   "cell_type": "code",
   "execution_count": 8,
   "metadata": {},
   "outputs": [],
   "source": [
    "df_calls_epr = pd.merge(df_calls, df_epr_hazards, left_index=True, right_index=True, how='left')"
   ]
  },
  {
   "cell_type": "code",
   "execution_count": 9,
   "metadata": {},
   "outputs": [],
   "source": [
    "df_calls_epr['hazard_count'] = df_calls_epr.hazard_count.fillna(0).astype('int')"
   ]
  },
  {
   "cell_type": "code",
   "execution_count": 13,
   "metadata": {},
   "outputs": [],
   "source": [
    "df_incidents = df_calls_epr[['Type_', 'TimeCreate', 'Location', 'hazard_count']]"
   ]
  },
  {
   "cell_type": "code",
   "execution_count": 29,
   "metadata": {},
   "outputs": [
    {
     "name": "stderr",
     "output_type": "stream",
     "text": [
      "/home/kris/anaconda3/lib/python3.6/site-packages/pandas/core/frame.py:3140: SettingWithCopyWarning: \n",
      "A value is trying to be set on a copy of a slice from a DataFrame.\n",
      "Try using .loc[row_indexer,col_indexer] = value instead\n",
      "\n",
      "See the caveats in the documentation: http://pandas.pydata.org/pandas-docs/stable/indexing.html#indexing-view-versus-copy\n",
      "  self[k1] = value[k2]\n"
     ]
    }
   ],
   "source": [
    "df_incidents[['lat', 'lon']] = df_incidents.Location.str.replace('[()]', '').str.split(',', expand=True)"
   ]
  },
  {
   "cell_type": "code",
   "execution_count": 37,
   "metadata": {},
   "outputs": [
    {
     "name": "stderr",
     "output_type": "stream",
     "text": [
      "/home/kris/anaconda3/lib/python3.6/site-packages/ipykernel_launcher.py:1: SettingWithCopyWarning: \n",
      "A value is trying to be set on a copy of a slice from a DataFrame.\n",
      "Try using .loc[row_indexer,col_indexer] = value instead\n",
      "\n",
      "See the caveats in the documentation: http://pandas.pydata.org/pandas-docs/stable/indexing.html#indexing-view-versus-copy\n",
      "  \"\"\"Entry point for launching an IPython kernel.\n"
     ]
    }
   ],
   "source": [
    "df_incidents['lat'] = pd.to_numeric(df_incidents.lat)"
   ]
  },
  {
   "cell_type": "code",
   "execution_count": 38,
   "metadata": {},
   "outputs": [
    {
     "name": "stderr",
     "output_type": "stream",
     "text": [
      "/home/kris/anaconda3/lib/python3.6/site-packages/ipykernel_launcher.py:1: SettingWithCopyWarning: \n",
      "A value is trying to be set on a copy of a slice from a DataFrame.\n",
      "Try using .loc[row_indexer,col_indexer] = value instead\n",
      "\n",
      "See the caveats in the documentation: http://pandas.pydata.org/pandas-docs/stable/indexing.html#indexing-view-versus-copy\n",
      "  \"\"\"Entry point for launching an IPython kernel.\n"
     ]
    }
   ],
   "source": [
    "df_incidents['lon'] = pd.to_numeric(df_incidents.lon)"
   ]
  },
  {
   "cell_type": "code",
   "execution_count": 42,
   "metadata": {},
   "outputs": [
    {
     "name": "stderr",
     "output_type": "stream",
     "text": [
      "/home/kris/anaconda3/lib/python3.6/site-packages/pandas/core/frame.py:3697: SettingWithCopyWarning: \n",
      "A value is trying to be set on a copy of a slice from a DataFrame\n",
      "\n",
      "See the caveats in the documentation: http://pandas.pydata.org/pandas-docs/stable/indexing.html#indexing-view-versus-copy\n",
      "  errors=errors)\n"
     ]
    }
   ],
   "source": [
    "df_incidents.drop(columns='Location', inplace=True)"
   ]
  },
  {
   "cell_type": "code",
   "execution_count": 48,
   "metadata": {},
   "outputs": [
    {
     "data": {
      "text/html": [
       "<div>\n",
       "<style scoped>\n",
       "    .dataframe tbody tr th:only-of-type {\n",
       "        vertical-align: middle;\n",
       "    }\n",
       "\n",
       "    .dataframe tbody tr th {\n",
       "        vertical-align: top;\n",
       "    }\n",
       "\n",
       "    .dataframe thead th {\n",
       "        text-align: right;\n",
       "    }\n",
       "</style>\n",
       "<table border=\"1\" class=\"dataframe\">\n",
       "  <thead>\n",
       "    <tr style=\"text-align: right;\">\n",
       "      <th></th>\n",
       "      <th>TypeText</th>\n",
       "    </tr>\n",
       "    <tr>\n",
       "      <th>Type_</th>\n",
       "      <th></th>\n",
       "    </tr>\n",
       "  </thead>\n",
       "  <tbody>\n",
       "    <tr>\n",
       "      <th>100</th>\n",
       "      <td>HIT &amp; RUN</td>\n",
       "    </tr>\n",
       "    <tr>\n",
       "      <th>100C</th>\n",
       "      <td>HIT &amp; RUN CITY VEHICLE</td>\n",
       "    </tr>\n",
       "    <tr>\n",
       "      <th>100F</th>\n",
       "      <td>HIT &amp; RUN FATALITY</td>\n",
       "    </tr>\n",
       "    <tr>\n",
       "      <th>100F</th>\n",
       "      <td>HIT &amp; RUN  FATALITY</td>\n",
       "    </tr>\n",
       "    <tr>\n",
       "      <th>100I</th>\n",
       "      <td>HIT &amp; RUN WITH INJURIES</td>\n",
       "    </tr>\n",
       "    <tr>\n",
       "      <th>100I</th>\n",
       "      <td>HIT &amp; RUN WITH INJUR</td>\n",
       "    </tr>\n",
       "    <tr>\n",
       "      <th>100I</th>\n",
       "      <td>HIT &amp; RUN  WITH INJU</td>\n",
       "    </tr>\n",
       "    <tr>\n",
       "      <th>100X</th>\n",
       "      <td>HIT &amp; RUN POLICE VEHICLE</td>\n",
       "    </tr>\n",
       "    <tr>\n",
       "      <th>100X</th>\n",
       "      <td>HIT &amp; RUN POLICE VEH</td>\n",
       "    </tr>\n",
       "    <tr>\n",
       "      <th>1028P</th>\n",
       "      <td>VEHICLE PURSUIT</td>\n",
       "    </tr>\n",
       "    <tr>\n",
       "      <th>18</th>\n",
       "      <td>TRAFFIC  INCIDENT</td>\n",
       "    </tr>\n",
       "    <tr>\n",
       "      <th>18</th>\n",
       "      <td>TRAFFIC INCIDENT</td>\n",
       "    </tr>\n",
       "    <tr>\n",
       "      <th>18A</th>\n",
       "      <td>ABANDONED VEHICLE</td>\n",
       "    </tr>\n",
       "    <tr>\n",
       "      <th>18A</th>\n",
       "      <td>ABANDON VEHICLE</td>\n",
       "    </tr>\n",
       "    <tr>\n",
       "      <th>18DE</th>\n",
       "      <td>DIRECTED TRAFFIC ENFORCEMENT</td>\n",
       "    </tr>\n",
       "    <tr>\n",
       "      <th>18DE</th>\n",
       "      <td>DIRECTED TRAFFIC ENF</td>\n",
       "    </tr>\n",
       "    <tr>\n",
       "      <th>18F</th>\n",
       "      <td>FLOODED VEHICLE</td>\n",
       "    </tr>\n",
       "    <tr>\n",
       "      <th>20</th>\n",
       "      <td>AUTO ACCIDENT</td>\n",
       "    </tr>\n",
       "    <tr>\n",
       "      <th>20C</th>\n",
       "      <td>AUTO ACCIDENT CITY VEHICLE</td>\n",
       "    </tr>\n",
       "    <tr>\n",
       "      <th>20F</th>\n",
       "      <td>AUTO ACCIDENT FATALITY</td>\n",
       "    </tr>\n",
       "    <tr>\n",
       "      <th>20F</th>\n",
       "      <td>AUTO ACCIDENT FATALI</td>\n",
       "    </tr>\n",
       "    <tr>\n",
       "      <th>20I</th>\n",
       "      <td>AUTO ACCIDENT WITH I</td>\n",
       "    </tr>\n",
       "    <tr>\n",
       "      <th>20I</th>\n",
       "      <td>AUTO ACCIDENT WITH INJURY</td>\n",
       "    </tr>\n",
       "    <tr>\n",
       "      <th>20X</th>\n",
       "      <td>POLICE VEHICLE ACCIDENT</td>\n",
       "    </tr>\n",
       "    <tr>\n",
       "      <th>20X</th>\n",
       "      <td>POLICE VEHICLE ACCID</td>\n",
       "    </tr>\n",
       "    <tr>\n",
       "      <th>20X</th>\n",
       "      <td>AUTO ACCIDENT POLICE VEHICLE</td>\n",
       "    </tr>\n",
       "    <tr>\n",
       "      <th>98</th>\n",
       "      <td>DRIVING WHILE UNDER INFLUENCE</td>\n",
       "    </tr>\n",
       "    <tr>\n",
       "      <th>98</th>\n",
       "      <td>DRIVING WHILE UNDER</td>\n",
       "    </tr>\n",
       "    <tr>\n",
       "      <th>99</th>\n",
       "      <td>RECKLESS DRIVING</td>\n",
       "    </tr>\n",
       "    <tr>\n",
       "      <th>99</th>\n",
       "      <td>WRECKLESS DRIVING</td>\n",
       "    </tr>\n",
       "  </tbody>\n",
       "</table>\n",
       "</div>"
      ],
      "text/plain": [
       "                            TypeText\n",
       "Type_                               \n",
       "100                        HIT & RUN\n",
       "100C          HIT & RUN CITY VEHICLE\n",
       "100F              HIT & RUN FATALITY\n",
       "100F             HIT & RUN  FATALITY\n",
       "100I         HIT & RUN WITH INJURIES\n",
       "100I            HIT & RUN WITH INJUR\n",
       "100I            HIT & RUN  WITH INJU\n",
       "100X        HIT & RUN POLICE VEHICLE\n",
       "100X            HIT & RUN POLICE VEH\n",
       "1028P                VEHICLE PURSUIT\n",
       "18                 TRAFFIC  INCIDENT\n",
       "18                  TRAFFIC INCIDENT\n",
       "18A                ABANDONED VEHICLE\n",
       "18A                  ABANDON VEHICLE\n",
       "18DE    DIRECTED TRAFFIC ENFORCEMENT\n",
       "18DE            DIRECTED TRAFFIC ENF\n",
       "18F                  FLOODED VEHICLE\n",
       "20                     AUTO ACCIDENT\n",
       "20C       AUTO ACCIDENT CITY VEHICLE\n",
       "20F           AUTO ACCIDENT FATALITY\n",
       "20F             AUTO ACCIDENT FATALI\n",
       "20I             AUTO ACCIDENT WITH I\n",
       "20I        AUTO ACCIDENT WITH INJURY\n",
       "20X          POLICE VEHICLE ACCIDENT\n",
       "20X             POLICE VEHICLE ACCID\n",
       "20X     AUTO ACCIDENT POLICE VEHICLE\n",
       "98     DRIVING WHILE UNDER INFLUENCE\n",
       "98               DRIVING WHILE UNDER\n",
       "99                  RECKLESS DRIVING\n",
       "99                 WRECKLESS DRIVING"
      ]
     },
     "execution_count": 48,
     "metadata": {},
     "output_type": "execute_result"
    }
   ],
   "source": [
    "df_calls[['Type_', 'TypeText']].drop_duplicates().set_index('Type_').sort_index()"
   ]
  }
 ],
 "metadata": {
  "kernelspec": {
   "display_name": "Python 3",
   "language": "python",
   "name": "python3"
  },
  "language_info": {
   "codemirror_mode": {
    "name": "ipython",
    "version": 3
   },
   "file_extension": ".py",
   "mimetype": "text/x-python",
   "name": "python",
   "nbconvert_exporter": "python",
   "pygments_lexer": "ipython3",
   "version": "3.6.5"
  }
 },
 "nbformat": 4,
 "nbformat_minor": 2
}
