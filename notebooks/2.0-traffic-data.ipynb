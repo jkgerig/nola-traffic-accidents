{
 "cells": [
  {
   "cell_type": "code",
   "execution_count": 1,
   "metadata": {},
   "outputs": [],
   "source": [
    "import numpy as np\n",
    "import pandas as pd\n",
    "import matplotlib.pyplot as plt"
   ]
  },
  {
   "cell_type": "code",
   "execution_count": 2,
   "metadata": {},
   "outputs": [],
   "source": [
    "df_calls = pd.read_pickle('../data/interim/traffic_calls.pickle')"
   ]
  },
  {
   "cell_type": "code",
   "execution_count": 5,
   "metadata": {},
   "outputs": [],
   "source": [
    "df_epr = pd.read_pickle('../data/interim/traffic_epr.pickle')"
   ]
  },
  {
   "cell_type": "code",
   "execution_count": 38,
   "metadata": {},
   "outputs": [],
   "source": [
    "target_charges = [\n",
    "    'RECKLESS OPERATION OF A VEHICLE',\n",
    "    'REASONABLE SAFETY - BACKING',\n",
    "    'ONE WAY ROADWAYS & TRAFFIC ISLANDS',\n",
    "    'FLIGHT FROM AN OFFICER',\n",
    "    'DISREGARDING STOP AND YIELD SIGNS',\n",
    "    'DRIVING WHILE INTOXICATED',\n",
    "    'CARELESS OPERATION OF A VEHICLE',\n",
    "    'TURNING AT INTERSECTIONS',\n",
    "    'EXCEEDING SAFE SPEED',\n",
    "    'EXCEEDING SPEED LIMIT',\n",
    "    'DRIVING ROADWAY LANED FOR TRAFFIC',\n",
    "    'DISREGARDING TRAFFIC CONTROL SIGN',\n",
    "    'DISREGARDING SIGNS AND SIGNALS',\n",
    "    'DRIVING ON ROADWAY LANED  / TRAFFIC',\n",
    "    'STOPPING AT STOP SIGNS',\n",
    "    'HIT & RUN DRIVING',\n",
    "    'DRIVING ON DIVIDED HIGHWAYS',\n",
    "    'FOLLOWING TOO CLOSELY',\n",
    "    'ESCAPE',\n",
    "    'INTIMIDATION',\n",
    "    'DRIVING TOO SLOWLY',\n",
    "    'OVERTAKING ON LEFT',\n",
    "    'IMPROPER USE OF TURN SIGNALS',\n",
    "    'DRIVING ON DIVIDED STREET - RULES',\n",
    "    'MUST YIELD TO EMERGENCY VEHICLE',\n",
    "    'OBEDIENCE TO TRAFFIC CONTROL',\n",
    "    'ONE WAY STREETS AND ALLEYWAYS',\n",
    "    'DRIVING IN PROHIBITED AREAS',\n",
    "    'OBEDIENCE TO TRAFFIC CONTROLS',\n",
    "    'SPEED LIMITS',\n",
    "    'MOVEMENT ON ONE WAY STREETS',\n",
    "    'YIELDING TO EMERGENCY VEHICLES',\n",
    "    'TRUCK ROUTE VIOLATIONS',\n",
    "    'VEHICLES ENTITLED TO RIGHT OF WAY',\n",
    "    'PROPER POSITION TO TURN',\n",
    "    'SPEED LIMITS - SCHOOL ZONES',\n",
    "    'OPENING VEHICLE DOOR IN TRAFFIC',\n",
    "    'PUBLIC DRUNK; DRUG INCAPACITATION']"
   ]
  },
  {
   "cell_type": "code",
   "execution_count": 55,
   "metadata": {},
   "outputs": [],
   "source": [
    "df_epr_hazards = df_epr[df_epr['Charge_Description'].isin(target_charges)].groupby('Item_Number').count()[['Charge_Description']]"
   ]
  },
  {
   "cell_type": "code",
   "execution_count": 58,
   "metadata": {},
   "outputs": [],
   "source": [
    "df_epr_hazards.columns = ['hazard_count']"
   ]
  },
  {
   "cell_type": "code",
   "execution_count": 65,
   "metadata": {},
   "outputs": [],
   "source": [
    "df_epr_hazards.index = df_epr_hazards.index.str.replace('-', '')"
   ]
  },
  {
   "cell_type": "code",
   "execution_count": 69,
   "metadata": {},
   "outputs": [],
   "source": [
    "df_calls_epr = pd.merge(df_calls, df_epr_hazards, left_index=True, right_index=True, how='left')"
   ]
  },
  {
   "cell_type": "code",
   "execution_count": 78,
   "metadata": {},
   "outputs": [],
   "source": [
    "df_calls_epr['hazard_count'] = df_calls_epr.hazard_count.fillna(0).astype('int')"
   ]
  }
 ],
 "metadata": {
  "kernelspec": {
   "display_name": "Python 3",
   "language": "python",
   "name": "python3"
  },
  "language_info": {
   "codemirror_mode": {
    "name": "ipython",
    "version": 3
   },
   "file_extension": ".py",
   "mimetype": "text/x-python",
   "name": "python",
   "nbconvert_exporter": "python",
   "pygments_lexer": "ipython3",
   "version": "3.6.5"
  }
 },
 "nbformat": 4,
 "nbformat_minor": 2
}
