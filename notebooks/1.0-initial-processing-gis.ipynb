{
 "cells": [
  {
   "cell_type": "code",
   "execution_count": 1,
   "metadata": {},
   "outputs": [],
   "source": [
    "import numpy as np\n",
    "import pandas as pd\n",
    "import geopandas as gpd\n",
    "import matplotlib.pyplot as plt\n",
    "import seaborn as sns"
   ]
  },
  {
   "cell_type": "code",
   "execution_count": 2,
   "metadata": {},
   "outputs": [],
   "source": [
    "gdf_dpw_projects = gpd.read_file('../data/raw/Dept_of_Public_Works_Roadwork_Projects/Dept_of_Public_Works_Roadwork_Projects.shp')"
   ]
  },
  {
   "cell_type": "code",
   "execution_count": 3,
   "metadata": {},
   "outputs": [],
   "source": [
    "gdf_nhoods = gpd.read_file('../data/raw/Neighborhood_Statistical_Areas/Neighborhood_Statistical_Areas.shp')"
   ]
  },
  {
   "cell_type": "code",
   "execution_count": 5,
   "metadata": {},
   "outputs": [
    {
     "name": "stdout",
     "output_type": "stream",
     "text": [
      "<class 'geopandas.geodataframe.GeoDataFrame'>\n",
      "RangeIndex: 72 entries, 0 to 71\n",
      "Data columns (total 5 columns):\n",
      "OBJECTID      72 non-null int64\n",
      "GNOCDC_LAB    72 non-null object\n",
      "Shape_Leng    72 non-null float64\n",
      "Shape_Area    72 non-null float64\n",
      "geometry      72 non-null object\n",
      "dtypes: float64(2), int64(1), object(2)\n",
      "memory usage: 2.9+ KB\n"
     ]
    }
   ],
   "source": [
    "gdf_nhoods.info()"
   ]
  },
  {
   "cell_type": "code",
   "execution_count": 8,
   "metadata": {},
   "outputs": [
    {
     "data": {
      "text/html": [
       "<div>\n",
       "<style scoped>\n",
       "    .dataframe tbody tr th:only-of-type {\n",
       "        vertical-align: middle;\n",
       "    }\n",
       "\n",
       "    .dataframe tbody tr th {\n",
       "        vertical-align: top;\n",
       "    }\n",
       "\n",
       "    .dataframe thead th {\n",
       "        text-align: right;\n",
       "    }\n",
       "</style>\n",
       "<table border=\"1\" class=\"dataframe\">\n",
       "  <thead>\n",
       "    <tr style=\"text-align: right;\">\n",
       "      <th></th>\n",
       "      <th>OBJECTID</th>\n",
       "      <th>GNOCDC_LAB</th>\n",
       "      <th>Shape_Leng</th>\n",
       "      <th>Shape_Area</th>\n",
       "      <th>geometry</th>\n",
       "    </tr>\n",
       "  </thead>\n",
       "  <tbody>\n",
       "    <tr>\n",
       "      <th>0</th>\n",
       "      <td>793</td>\n",
       "      <td>U.S. NAVAL BASE</td>\n",
       "      <td>24814.676237</td>\n",
       "      <td>2.965424e+07</td>\n",
       "      <td>POLYGON ((3694618.735069558 530833.4227008969,...</td>\n",
       "    </tr>\n",
       "    <tr>\n",
       "      <th>1</th>\n",
       "      <td>794</td>\n",
       "      <td>ALGIERS POINT</td>\n",
       "      <td>15434.791720</td>\n",
       "      <td>1.375080e+07</td>\n",
       "      <td>POLYGON ((3688676.845706642 532548.192565307, ...</td>\n",
       "    </tr>\n",
       "    <tr>\n",
       "      <th>2</th>\n",
       "      <td>795</td>\n",
       "      <td>WHITNEY</td>\n",
       "      <td>25858.258690</td>\n",
       "      <td>1.842169e+07</td>\n",
       "      <td>POLYGON ((3690994.424076721 532065.1620353162,...</td>\n",
       "    </tr>\n",
       "    <tr>\n",
       "      <th>3</th>\n",
       "      <td>796</td>\n",
       "      <td>AUDUBON</td>\n",
       "      <td>39015.654380</td>\n",
       "      <td>6.325782e+07</td>\n",
       "      <td>POLYGON ((3668394.243555382 526233.1566389799,...</td>\n",
       "    </tr>\n",
       "    <tr>\n",
       "      <th>4</th>\n",
       "      <td>797</td>\n",
       "      <td>OLD AURORA</td>\n",
       "      <td>39878.264239</td>\n",
       "      <td>8.663475e+07</td>\n",
       "      <td>POLYGON ((3699284.974752799 528245.9770883918,...</td>\n",
       "    </tr>\n",
       "  </tbody>\n",
       "</table>\n",
       "</div>"
      ],
      "text/plain": [
       "   OBJECTID       GNOCDC_LAB    Shape_Leng    Shape_Area  \\\n",
       "0       793  U.S. NAVAL BASE  24814.676237  2.965424e+07   \n",
       "1       794    ALGIERS POINT  15434.791720  1.375080e+07   \n",
       "2       795          WHITNEY  25858.258690  1.842169e+07   \n",
       "3       796          AUDUBON  39015.654380  6.325782e+07   \n",
       "4       797       OLD AURORA  39878.264239  8.663475e+07   \n",
       "\n",
       "                                            geometry  \n",
       "0  POLYGON ((3694618.735069558 530833.4227008969,...  \n",
       "1  POLYGON ((3688676.845706642 532548.192565307, ...  \n",
       "2  POLYGON ((3690994.424076721 532065.1620353162,...  \n",
       "3  POLYGON ((3668394.243555382 526233.1566389799,...  \n",
       "4  POLYGON ((3699284.974752799 528245.9770883918,...  "
      ]
     },
     "execution_count": 8,
     "metadata": {},
     "output_type": "execute_result"
    }
   ],
   "source": [
    "gdf_nhoods.head()"
   ]
  }
 ],
 "metadata": {
  "kernelspec": {
   "display_name": "Python 3",
   "language": "python",
   "name": "python3"
  },
  "language_info": {
   "codemirror_mode": {
    "name": "ipython",
    "version": 3
   },
   "file_extension": ".py",
   "mimetype": "text/x-python",
   "name": "python",
   "nbconvert_exporter": "python",
   "pygments_lexer": "ipython3",
   "version": "3.6.5"
  }
 },
 "nbformat": 4,
 "nbformat_minor": 2
}
