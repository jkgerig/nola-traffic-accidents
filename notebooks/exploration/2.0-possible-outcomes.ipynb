{
 "cells": [
  {
   "cell_type": "code",
   "execution_count": 1,
   "metadata": {},
   "outputs": [],
   "source": [
    "# package imports\n",
    "import numpy as np\n",
    "import pandas as pd\n",
    "import matplotlib.pyplot as plt\n",
    "import seaborn as sns\n",
    "import geopandas as gpd"
   ]
  },
  {
   "cell_type": "markdown",
   "metadata": {},
   "source": [
    "# Accidents\n",
    "\n",
    "1. DataFrame - one row per accident\n",
    "2. Include Date/Time and Location"
   ]
  },
  {
   "cell_type": "code",
   "execution_count": 2,
   "metadata": {},
   "outputs": [],
   "source": [
    "# import traffic pickle file\n",
    "df_traffic = pd.read_pickle('../data/interim/traffic_calls.pickle')"
   ]
  },
  {
   "cell_type": "code",
   "execution_count": 3,
   "metadata": {},
   "outputs": [],
   "source": [
    "# columns of interest\n",
    "target_columns = [\n",
    "    'Type_',\n",
    "    'TypeText',\n",
    "    'TimeCreate',\n",
    "    'Location'\n",
    "]\n",
    "\n",
    "# select relevant columns\n",
    "df_traffic = df_traffic[target_columns]"
   ]
  },
  {
   "cell_type": "code",
   "execution_count": 4,
   "metadata": {},
   "outputs": [],
   "source": [
    "# select only accidents\n",
    "df_accidents = df_traffic[(df_traffic.Type_.str.slice(0,2) == '20') | (df_traffic.Type_.str.slice(0,3) == '100')]"
   ]
  },
  {
   "cell_type": "code",
   "execution_count": 5,
   "metadata": {},
   "outputs": [
    {
     "name": "stderr",
     "output_type": "stream",
     "text": [
      "C:\\Users\\kgerig\\AppData\\Local\\Continuum\\anaconda3\\envs\\nola-traffic\\lib\\site-packages\\ipykernel_launcher.py:2: SettingWithCopyWarning: \n",
      "A value is trying to be set on a copy of a slice from a DataFrame.\n",
      "Try using .loc[row_indexer,col_indexer] = value instead\n",
      "\n",
      "See the caveats in the documentation: http://pandas.pydata.org/pandas-docs/stable/indexing.html#indexing-view-versus-copy\n",
      "  \n",
      "C:\\Users\\kgerig\\AppData\\Local\\Continuum\\anaconda3\\envs\\nola-traffic\\lib\\site-packages\\ipykernel_launcher.py:3: SettingWithCopyWarning: \n",
      "A value is trying to be set on a copy of a slice from a DataFrame.\n",
      "Try using .loc[row_indexer,col_indexer] = value instead\n",
      "\n",
      "See the caveats in the documentation: http://pandas.pydata.org/pandas-docs/stable/indexing.html#indexing-view-versus-copy\n",
      "  This is separate from the ipykernel package so we can avoid doing imports until\n",
      "C:\\Users\\kgerig\\AppData\\Local\\Continuum\\anaconda3\\envs\\nola-traffic\\lib\\site-packages\\ipykernel_launcher.py:4: SettingWithCopyWarning: \n",
      "A value is trying to be set on a copy of a slice from a DataFrame.\n",
      "Try using .loc[row_indexer,col_indexer] = value instead\n",
      "\n",
      "See the caveats in the documentation: http://pandas.pydata.org/pandas-docs/stable/indexing.html#indexing-view-versus-copy\n",
      "  after removing the cwd from sys.path.\n"
     ]
    }
   ],
   "source": [
    "# split location into lat/lon\n",
    "df_accidents['location_split'] = df_accidents.Location.str.replace('[()]', '').str.split(',')\n",
    "df_accidents['lat'] = df_accidents.location_split.str.get(0).astype('float')\n",
    "df_accidents['lon'] = df_accidents.location_split.str.get(1).astype('float')"
   ]
  },
  {
   "cell_type": "code",
   "execution_count": 6,
   "metadata": {},
   "outputs": [
    {
     "name": "stderr",
     "output_type": "stream",
     "text": [
      "C:\\Users\\kgerig\\AppData\\Local\\Continuum\\anaconda3\\envs\\nola-traffic\\lib\\site-packages\\pandas\\core\\frame.py:3697: SettingWithCopyWarning: \n",
      "A value is trying to be set on a copy of a slice from a DataFrame\n",
      "\n",
      "See the caveats in the documentation: http://pandas.pydata.org/pandas-docs/stable/indexing.html#indexing-view-versus-copy\n",
      "  errors=errors)\n"
     ]
    }
   ],
   "source": [
    "# remove irrelevant columns\n",
    "df_accidents.drop(columns=['Type_', 'TypeText', 'Location', 'location_split'], inplace=True)"
   ]
  },
  {
   "cell_type": "code",
   "execution_count": 7,
   "metadata": {},
   "outputs": [
    {
     "name": "stderr",
     "output_type": "stream",
     "text": [
      "C:\\Users\\kgerig\\AppData\\Local\\Continuum\\anaconda3\\envs\\nola-traffic\\lib\\site-packages\\pandas\\core\\frame.py:3697: SettingWithCopyWarning: \n",
      "A value is trying to be set on a copy of a slice from a DataFrame\n",
      "\n",
      "See the caveats in the documentation: http://pandas.pydata.org/pandas-docs/stable/indexing.html#indexing-view-versus-copy\n",
      "  errors=errors)\n"
     ]
    }
   ],
   "source": [
    "# drop rows with missing lat/lon values\n",
    "df_accidents.drop(df_accidents[df_accidents.lat <= 1].index, inplace=True)\n",
    "df_accidents.drop(df_accidents[df_accidents.lat.isna()].index, inplace=True)"
   ]
  },
  {
   "cell_type": "code",
   "execution_count": 8,
   "metadata": {},
   "outputs": [],
   "source": [
    "# save accidents dataframe to pickle file\n",
    "df_accidents.to_pickle('../data/interim/accidents.pickle')"
   ]
  },
  {
   "cell_type": "markdown",
   "metadata": {},
   "source": [
    "# Locations\n",
    "\n",
    "1. Street Blocks\n",
    "2. Census Tracts\n",
    "3. Neighborhoods"
   ]
  },
  {
   "cell_type": "markdown",
   "metadata": {},
   "source": [
    "## Street Blocks"
   ]
  },
  {
   "cell_type": "code",
   "execution_count": 9,
   "metadata": {},
   "outputs": [],
   "source": [
    "# import road centerline shapefile\n",
    "gdf_streets = gpd.read_file('../data/raw/Road_Centerline/geo_export_c02761a8-1d85-477e-a5cf-01b9f22f4d88.shp')"
   ]
  },
  {
   "cell_type": "code",
   "execution_count": 10,
   "metadata": {},
   "outputs": [],
   "source": [
    "# target columns\n",
    "street_columns = [\n",
    "    'joinid',\n",
    "    'fromright',\n",
    "    'centerline',\n",
    "    'roadclass',\n",
    "    'fullname',\n",
    "    'toleft',\n",
    "    'toright',\n",
    "    'fedrtetype',\n",
    "    'fullnameab',\n",
    "    'objectid',\n",
    "    'strtetype',\n",
    "    'fromleft',\n",
    "    'geometry'\n",
    "]"
   ]
  },
  {
   "cell_type": "code",
   "execution_count": 11,
   "metadata": {},
   "outputs": [],
   "source": [
    "# select target columns\n",
    "gdf_streets = gdf_streets[street_columns]"
   ]
  },
  {
   "cell_type": "code",
   "execution_count": 12,
   "metadata": {},
   "outputs": [],
   "source": [
    "# set index to objectid\n",
    "gdf_streets.set_index('objectid', inplace=True)"
   ]
  },
  {
   "cell_type": "code",
   "execution_count": 13,
   "metadata": {},
   "outputs": [],
   "source": [
    "# write streets to pickle file\n",
    "gdf_streets.to_pickle('../data/interim/streets.pickle')"
   ]
  },
  {
   "cell_type": "markdown",
   "metadata": {},
   "source": [
    "## Census Tracts"
   ]
  },
  {
   "cell_type": "code",
   "execution_count": 14,
   "metadata": {},
   "outputs": [],
   "source": [
    "# import Louisiana Census Tract file\n",
    "gdf_tracts = gpd.read_file('../data/raw/tl_2017_22_tract/tl_2017_22_tract.shp')"
   ]
  },
  {
   "cell_type": "code",
   "execution_count": 15,
   "metadata": {},
   "outputs": [],
   "source": [
    "# select Orleans Parish\n",
    "gdf_tracts = gdf_tracts[gdf_tracts['COUNTYFP'] == '071']"
   ]
  },
  {
   "cell_type": "code",
   "execution_count": 16,
   "metadata": {},
   "outputs": [],
   "source": [
    "# select target columns\n",
    "tract_columns = [\n",
    "    'GEOID',\n",
    "    'geometry'\n",
    "]"
   ]
  },
  {
   "cell_type": "code",
   "execution_count": 17,
   "metadata": {},
   "outputs": [],
   "source": [
    "# remove extraneous columns\n",
    "gdf_tracts = gdf_tracts[tract_columns].set_index('GEOID')"
   ]
  },
  {
   "cell_type": "code",
   "execution_count": 18,
   "metadata": {},
   "outputs": [],
   "source": [
    "# save to pickle file\n",
    "gdf_tracts.to_pickle('../data/interim/tracts.pickle')"
   ]
  },
  {
   "cell_type": "markdown",
   "metadata": {},
   "source": [
    "## Neighborhoods"
   ]
  },
  {
   "cell_type": "code",
   "execution_count": 19,
   "metadata": {},
   "outputs": [],
   "source": [
    "# import neighborhood shapefile\n",
    "gdf_nhoods = gpd.read_file('../data/raw/Neighborhood_Statistical_Areas/Neighborhood_Statistical_Areas.shp')"
   ]
  },
  {
   "cell_type": "code",
   "execution_count": 20,
   "metadata": {},
   "outputs": [],
   "source": [
    "# identify target columns\n",
    "nhood_columns = [\n",
    "    'OBJECTID',\n",
    "    'GNOCDC_LAB',\n",
    "    'geometry'\n",
    "]"
   ]
  },
  {
   "cell_type": "code",
   "execution_count": 21,
   "metadata": {},
   "outputs": [],
   "source": [
    "# remove extraneous columns\n",
    "gdf_nhoods = gdf_nhoods[nhood_columns].set_index('OBJECTID')"
   ]
  },
  {
   "cell_type": "code",
   "execution_count": 22,
   "metadata": {},
   "outputs": [],
   "source": [
    "# save to pickle file\n",
    "gdf_nhoods.to_pickle('../data/interim/nhoods.pickle')"
   ]
  },
  {
   "cell_type": "markdown",
   "metadata": {},
   "source": [
    "# Date/Time\n",
    "\n",
    "1. 15-min increments\n",
    "2. 30-min increments\n",
    "3. 1-hr increments\n",
    "4. 1-day increments"
   ]
  },
  {
   "cell_type": "code",
   "execution_count": 23,
   "metadata": {},
   "outputs": [],
   "source": [
    "# set start and end datetimes for ranges\n",
    "range_start = pd.Timestamp('2012-01-01 00:00:00')\n",
    "range_end   = pd.Timestamp('2018-07-01 00:00:00')"
   ]
  },
  {
   "cell_type": "code",
   "execution_count": 24,
   "metadata": {},
   "outputs": [],
   "source": [
    "# create interval indexes\n",
    "date_range_15_min = pd.interval_range(start=range_start, end=range_end, freq='15min', closed='left')\n",
    "date_range_30_min = pd.interval_range(start=range_start, end=range_end, freq='30min', closed='left')\n",
    "date_range_60_min = pd.interval_range(start=range_start, end=range_end, freq='60min', closed='left')\n",
    "date_range_1_day = pd.interval_range(start=range_start, end=range_end, freq='D', closed='left')"
   ]
  }
 ],
 "metadata": {
  "kernelspec": {
   "display_name": "Python 3",
   "language": "python",
   "name": "python3"
  },
  "language_info": {
   "codemirror_mode": {
    "name": "ipython",
    "version": 3
   },
   "file_extension": ".py",
   "mimetype": "text/x-python",
   "name": "python",
   "nbconvert_exporter": "python",
   "pygments_lexer": "ipython3",
   "version": "3.6.5"
  }
 },
 "nbformat": 4,
 "nbformat_minor": 2
}
