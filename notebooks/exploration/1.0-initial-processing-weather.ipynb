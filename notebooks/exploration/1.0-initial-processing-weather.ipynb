{
 "cells": [
  {
   "cell_type": "code",
   "execution_count": 1,
   "metadata": {},
   "outputs": [],
   "source": [
    "# package imports\n",
    "\n",
    "import numpy as np\n",
    "import pandas as pd"
   ]
  },
  {
   "cell_type": "markdown",
   "metadata": {},
   "source": [
    "## Import Weather Data"
   ]
  },
  {
   "cell_type": "code",
   "execution_count": 2,
   "metadata": {},
   "outputs": [],
   "source": [
    "df_raw_weather_lakefront = pd.read_csv('../data/raw/1399048.csv', usecols=[5, 8, 9, 35, 36, 38])\n",
    "df_raw_weather_lakefront['DATE'] = pd.to_datetime(df_raw_weather_lakefront['DATE'])\n",
    "df_raw_weather_lakefront['DAILYPrecip'] = pd.to_numeric(df_raw_weather_lakefront.DAILYPrecip.str.replace('[a-zA-Z]', ''), errors='coerce').fillna(0)\n",
    "df_raw_weather_lakefront['HOURLYVISIBILITY'] = pd.to_numeric(df_raw_weather_lakefront.HOURLYVISIBILITY.str.replace('[a-zA-Z]', ''), errors='coerce').fillna(0)\n",
    "df_raw_weather_lakefront['DAILYSunrise'] = pd.to_datetime(df_raw_weather_lakefront.DAILYSunrise.astype('str').str.pad(4, fillchar='0'), format='%H%M').dt.time\n",
    "df_raw_weather_lakefront['DAILYSunrise'] = pd.to_datetime(df_raw_weather_lakefront.DATE.dt.date.astype('str') + ' ' + df_raw_weather_lakefront.DAILYSunrise.astype('str'))\n",
    "df_raw_weather_lakefront['DAILYSunset'] = pd.to_datetime(df_raw_weather_lakefront.DAILYSunset, format='%H%M').dt.time\n",
    "df_raw_weather_lakefront['DAILYSunset'] = pd.to_datetime(df_raw_weather_lakefront.DATE.dt.date.astype('str') + ' ' + df_raw_weather_lakefront.DAILYSunset.astype('str'))"
   ]
  },
  {
   "cell_type": "code",
   "execution_count": 3,
   "metadata": {},
   "outputs": [],
   "source": [
    "df_raw_weather_lakefront.to_pickle('../data/interim/weather.pickle')"
   ]
  }
 ],
 "metadata": {
  "kernelspec": {
   "display_name": "Python 3",
   "language": "python",
   "name": "python3"
  },
  "language_info": {
   "codemirror_mode": {
    "name": "ipython",
    "version": 3
   },
   "file_extension": ".py",
   "mimetype": "text/x-python",
   "name": "python",
   "nbconvert_exporter": "python",
   "pygments_lexer": "ipython3",
   "version": "3.6.5"
  }
 },
 "nbformat": 4,
 "nbformat_minor": 2
}
