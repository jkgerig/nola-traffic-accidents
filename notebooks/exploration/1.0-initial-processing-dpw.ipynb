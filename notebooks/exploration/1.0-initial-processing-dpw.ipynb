{
 "cells": [
  {
   "cell_type": "code",
   "execution_count": 1,
   "metadata": {},
   "outputs": [],
   "source": [
    "import numpy as np\n",
    "import pandas as pd"
   ]
  },
  {
   "cell_type": "code",
   "execution_count": 2,
   "metadata": {},
   "outputs": [],
   "source": [
    "df_raw_dpw_projects = pd.read_csv('../../data/raw/Dept_of_Public_Works_Roadwork_Projects.csv', usecols=[1, 2, 3, 5, 8, 9])\n",
    "df_raw_dpw_projects = df_raw_dpw_projects.drop_duplicates()\n",
    "df_raw_dpw_projects['StartDate'] = pd.to_datetime(df_raw_dpw_projects.StartQtr, errors='coerce')\n",
    "df_raw_dpw_projects['StartDate_2'] = pd.to_datetime(df_raw_dpw_projects[df_raw_dpw_projects.StartDate.isna()].StartQtr.str.replace('-...', ''))\n",
    "df_raw_dpw_projects['StartDate'] = np.where(df_raw_dpw_projects.StartDate.isna(), df_raw_dpw_projects.StartDate_2, df_raw_dpw_projects.StartDate)\n",
    "df_raw_dpw_projects['EndDate'] = pd.to_datetime(df_raw_dpw_projects.EndQtr, errors='coerce')\n",
    "df_raw_dpw_projects['EndDate_2'] = pd.to_datetime(df_raw_dpw_projects[df_raw_dpw_projects.EndDate.isna()].EndQtr.str.replace('-...', ''))\n",
    "df_raw_dpw_projects['EndDate'] = np.where(df_raw_dpw_projects.EndDate.isna(), df_raw_dpw_projects.EndDate_2, df_raw_dpw_projects.EndDate)\n",
    "df_raw_dpw_projects = df_raw_dpw_projects.drop(columns=['StartQtr', 'EndQtr', 'StartDate_2', 'EndDate_2'])"
   ]
  },
  {
   "cell_type": "code",
   "execution_count": 3,
   "metadata": {},
   "outputs": [],
   "source": [
    "df_raw_dpw_projects.to_pickle('../../data/interim/dpw_projects.pickle')"
   ]
  }
 ],
 "metadata": {
  "kernelspec": {
   "display_name": "Python 3",
   "language": "python",
   "name": "python3"
  },
  "language_info": {
   "codemirror_mode": {
    "name": "ipython",
    "version": 3
   },
   "file_extension": ".py",
   "mimetype": "text/x-python",
   "name": "python",
   "nbconvert_exporter": "python",
   "pygments_lexer": "ipython3",
   "version": "3.6.5"
  }
 },
 "nbformat": 4,
 "nbformat_minor": 2
}
