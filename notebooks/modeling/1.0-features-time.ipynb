{
 "cells": [
  {
   "cell_type": "markdown",
   "metadata": {},
   "source": [
    "# Time-based Features\n",
    "\n",
    "- Date\n",
    "- Hour\n",
    "- Light (y/n)\n",
    "- Holiday (y/n)\n",
    "- Rush Hour (y/n)"
   ]
  },
  {
   "cell_type": "code",
   "execution_count": 1,
   "metadata": {},
   "outputs": [],
   "source": [
    "# package imports\n",
    "import numpy as np\n",
    "import pandas as pd\n",
    "import matplotlib.pyplot as plt"
   ]
  },
  {
   "cell_type": "markdown",
   "metadata": {},
   "source": [
    "## Determine Holidays"
   ]
  },
  {
   "cell_type": "code",
   "execution_count": 3,
   "metadata": {},
   "outputs": [],
   "source": [
    "holidays = pd.read_table('../../data/raw/holidays.txt', header=None)"
   ]
  },
  {
   "cell_type": "code",
   "execution_count": 4,
   "metadata": {},
   "outputs": [],
   "source": [
    "holidays.columns = ['date_text', 'holiday']"
   ]
  },
  {
   "cell_type": "code",
   "execution_count": 5,
   "metadata": {},
   "outputs": [],
   "source": [
    "holidays['date'] = pd.to_datetime(holidays.date_text)"
   ]
  },
  {
   "cell_type": "code",
   "execution_count": 6,
   "metadata": {},
   "outputs": [],
   "source": [
    "holiday_list = holidays.holiday.drop_duplicates().values.tolist()"
   ]
  },
  {
   "cell_type": "code",
   "execution_count": 7,
   "metadata": {},
   "outputs": [],
   "source": [
    "relevant_holidays = [\n",
    "    \"New Year's Day\",\n",
    "    \"'New Year's Day' observed\",\n",
    "    'Martin Luther King Jr. Day',\n",
    "    \"Valentine's Day\",\n",
    "    \"Presidents' Day (Most regions)\",\n",
    "    'Ash Wednesday',\n",
    "    \"St. Patrick's Day\",\n",
    "    'Palm Sunday',\n",
    "    'Maundy Thursday',\n",
    "    'Good Friday (Many regions)',\n",
    "    'Holy Saturday',\n",
    "    'Easter Sunday',\n",
    "    'Easter Monday',\n",
    "    'Cinco de Mayo',\n",
    "    \"Mother's Day\",\n",
    "    'Memorial Day',\n",
    "    \"Father's Day\",\n",
    "    'Independence Day',\n",
    "    'Labor Day',\n",
    "    'Columbus Day (Most regions)',\n",
    "    'Halloween',\n",
    "    \"All Saints' Day\",\n",
    "    \"All Souls' Day\",\n",
    "    'Election Day',\n",
    "    'Veterans Day',\n",
    "    'Thanksgiving Day',\n",
    "    'Black Friday',\n",
    "    'Christmas Eve',\n",
    "    'Christmas Day',\n",
    "    \"New Year's Eve\",\n",
    "    \"'Independence Day' observed\",\n",
    "    'Day After Christmas Day',\n",
    "    \"'Christmas Day' observed\",\n",
    "    'Veterans Day observed']"
   ]
  },
  {
   "cell_type": "code",
   "execution_count": 8,
   "metadata": {},
   "outputs": [],
   "source": [
    "holidays = holidays[holidays.holiday.isin(relevant_holidays)]"
   ]
  },
  {
   "cell_type": "code",
   "execution_count": 9,
   "metadata": {},
   "outputs": [],
   "source": [
    "ash_wednesdays = holidays[holidays['holiday'] == 'Ash Wednesday']"
   ]
  },
  {
   "cell_type": "code",
   "execution_count": 10,
   "metadata": {},
   "outputs": [],
   "source": [
    "mardi_gras = ash_wednesdays.date + pd.Timedelta('-1 day')"
   ]
  },
  {
   "cell_type": "code",
   "execution_count": 11,
   "metadata": {},
   "outputs": [],
   "source": [
    "lundi_gras = ash_wednesdays.date + pd.Timedelta('-2 days')"
   ]
  },
  {
   "cell_type": "code",
   "execution_count": 12,
   "metadata": {},
   "outputs": [],
   "source": [
    "mardi_gras_sunday = ash_wednesdays.date + pd.Timedelta('-3 days')"
   ]
  },
  {
   "cell_type": "code",
   "execution_count": 13,
   "metadata": {},
   "outputs": [],
   "source": [
    "mardi_gras_saturday = ash_wednesdays.date + pd.Timedelta('-4 days')"
   ]
  },
  {
   "cell_type": "code",
   "execution_count": 14,
   "metadata": {},
   "outputs": [],
   "source": [
    "mardi_gras_friday = ash_wednesdays.date + pd.Timedelta('-5 days')"
   ]
  },
  {
   "cell_type": "code",
   "execution_count": 15,
   "metadata": {},
   "outputs": [],
   "source": [
    "mardi_gras_thursday = ash_wednesdays.date + pd.Timedelta('-6 days')"
   ]
  },
  {
   "cell_type": "code",
   "execution_count": 16,
   "metadata": {},
   "outputs": [],
   "source": [
    "mardi_gras_parades = pd.concat([mardi_gras, \n",
    "                                lundi_gras, \n",
    "                                mardi_gras_sunday, \n",
    "                                mardi_gras_saturday, \n",
    "                                mardi_gras_friday, \n",
    "                                mardi_gras_thursday], \n",
    "                               ignore_index=True)"
   ]
  },
  {
   "cell_type": "code",
   "execution_count": 17,
   "metadata": {},
   "outputs": [],
   "source": [
    "holiday_dates = pd.concat([holidays.date, mardi_gras_parades], ignore_index=True)"
   ]
  },
  {
   "cell_type": "code",
   "execution_count": 18,
   "metadata": {},
   "outputs": [],
   "source": [
    "holiday_dates = holiday_dates.sort_values()"
   ]
  },
  {
   "cell_type": "code",
   "execution_count": 19,
   "metadata": {},
   "outputs": [],
   "source": [
    "holiday_dates = holiday_dates.drop_duplicates()"
   ]
  },
  {
   "cell_type": "code",
   "execution_count": 20,
   "metadata": {},
   "outputs": [],
   "source": [
    "holiday_dates.reset_index(drop=True, inplace=True)"
   ]
  },
  {
   "cell_type": "code",
   "execution_count": 22,
   "metadata": {},
   "outputs": [],
   "source": [
    "holiday_dates.to_pickle('../../data/interim/features/holiday_dates.pickle')"
   ]
  },
  {
   "cell_type": "markdown",
   "metadata": {},
   "source": [
    "## Daylight"
   ]
  },
  {
   "cell_type": "code",
   "execution_count": 23,
   "metadata": {},
   "outputs": [],
   "source": [
    "weather_data = pd.read_csv('../../data/raw/1399048.csv', usecols=[5, 35, 36])\n",
    "\n",
    "weather_data['DATE'] = pd.to_datetime(weather_data['DATE'])\n",
    "weather_data['DAILYSunrise'] = pd.to_datetime(weather_data.DAILYSunrise.astype('str').str.pad(4, fillchar='0'), format='%H%M').dt.time\n",
    "weather_data['DAILYSunrise'] = pd.to_datetime(weather_data.DATE.dt.date.astype('str') + ' ' + weather_data.DAILYSunrise.astype('str'))\n",
    "weather_data['DAILYSunset'] = pd.to_datetime(weather_data.DAILYSunset, format='%H%M').dt.time\n",
    "weather_data['DAILYSunset'] = pd.to_datetime(weather_data.DATE.dt.date.astype('str') + ' ' + weather_data.DAILYSunset.astype('str'))\n",
    "weather_data.set_index('DATE', inplace=True)"
   ]
  },
  {
   "cell_type": "code",
   "execution_count": 24,
   "metadata": {},
   "outputs": [],
   "source": [
    "daylight_by_date = weather_data.resample('D').first()"
   ]
  },
  {
   "cell_type": "code",
   "execution_count": 25,
   "metadata": {},
   "outputs": [],
   "source": [
    "daylight_by_date['sunrise'] = daylight_by_date.DAILYSunrise.dt.time"
   ]
  },
  {
   "cell_type": "code",
   "execution_count": 26,
   "metadata": {},
   "outputs": [],
   "source": [
    "daylight_by_date['sunset'] = daylight_by_date.DAILYSunset.dt.time"
   ]
  },
  {
   "cell_type": "code",
   "execution_count": 27,
   "metadata": {},
   "outputs": [],
   "source": [
    "daylight_by_date = daylight_by_date.drop(columns=['DAILYSunrise', 'DAILYSunset'])"
   ]
  },
  {
   "cell_type": "code",
   "execution_count": 28,
   "metadata": {},
   "outputs": [],
   "source": [
    "daylight_by_date.to_pickle('../../data/interim/features/daylight.pickle')"
   ]
  },
  {
   "cell_type": "markdown",
   "metadata": {},
   "source": [
    "## Rush Hour"
   ]
  },
  {
   "cell_type": "code",
   "execution_count": 29,
   "metadata": {},
   "outputs": [],
   "source": [
    "rush_hour = pd.DataFrame(index=pd.date_range('2012-01-01', '2018-06-30', freq='B'))"
   ]
  },
  {
   "cell_type": "code",
   "execution_count": 30,
   "metadata": {},
   "outputs": [],
   "source": [
    "rush_hour['rush_hour_am_1'] = pd.to_datetime('07:00').time()\n",
    "rush_hour['rush_hour_am_2'] = pd.to_datetime('08:00').time()\n",
    "rush_hour['rush_hour_am_3'] = pd.to_datetime('09:00').time()\n",
    "rush_hour['rush_hour_pm_1'] = pd.to_datetime('16:00').time()\n",
    "rush_hour['rush_hour_pm_2'] = pd.to_datetime('17:00').time()\n",
    "rush_hour['rush_hour_pm_3'] = pd.to_datetime('18:00').time()"
   ]
  },
  {
   "cell_type": "code",
   "execution_count": 31,
   "metadata": {},
   "outputs": [],
   "source": [
    "rush_hour = rush_hour.stack().reset_index(level=[0,1])"
   ]
  },
  {
   "cell_type": "code",
   "execution_count": 32,
   "metadata": {},
   "outputs": [],
   "source": [
    "rush_hour.columns = ['date', 'drop_me', 'time']"
   ]
  },
  {
   "cell_type": "code",
   "execution_count": 33,
   "metadata": {},
   "outputs": [],
   "source": [
    "rush_hour_datetime = pd.to_datetime(rush_hour.date.astype('str') + ' ' + rush_hour.time.astype('str'))"
   ]
  },
  {
   "cell_type": "code",
   "execution_count": 34,
   "metadata": {},
   "outputs": [],
   "source": [
    "rush_hour_datetime = pd.DataFrame(index=rush_hour_datetime)"
   ]
  },
  {
   "cell_type": "code",
   "execution_count": 35,
   "metadata": {},
   "outputs": [],
   "source": [
    "rush_hour_datetime['rush_hour'] = 1"
   ]
  },
  {
   "cell_type": "code",
   "execution_count": 36,
   "metadata": {},
   "outputs": [],
   "source": [
    "rush_hour_datetime.to_pickle('../../data/interim/features/rush_hour.pickle')"
   ]
  }
 ],
 "metadata": {
  "kernelspec": {
   "display_name": "Python 3",
   "language": "python",
   "name": "python3"
  },
  "language_info": {
   "codemirror_mode": {
    "name": "ipython",
    "version": 3
   },
   "file_extension": ".py",
   "mimetype": "text/x-python",
   "name": "python",
   "nbconvert_exporter": "python",
   "pygments_lexer": "ipython3",
   "version": "3.6.5"
  }
 },
 "nbformat": 4,
 "nbformat_minor": 2
}
