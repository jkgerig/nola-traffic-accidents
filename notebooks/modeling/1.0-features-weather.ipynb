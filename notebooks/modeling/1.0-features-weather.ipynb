{
 "cells": [
  {
   "cell_type": "markdown",
   "metadata": {},
   "source": [
    "# Weather Features\n",
    "\n",
    "*Per hour*\n",
    "\n",
    "- Temperature\n",
    "- Wind Speed\n",
    "- Precipitation Total"
   ]
  },
  {
   "cell_type": "code",
   "execution_count": 1,
   "metadata": {},
   "outputs": [],
   "source": [
    "# package imports\n",
    "import numpy as np\n",
    "import pandas as pd\n",
    "import matplotlib.pyplot as plt"
   ]
  },
  {
   "cell_type": "code",
   "execution_count": 2,
   "metadata": {},
   "outputs": [],
   "source": [
    "weather_airport = pd.read_csv('../../data/raw/1399060.csv', usecols=[5, 6, 10, 17, 24], dtype='object')\n",
    "weather_airport['DATE'] = pd.to_datetime(weather_airport['DATE'])\n",
    "weather_airport.set_index('DATE', inplace=True)\n",
    "weather_airport['temp'] = pd.to_numeric(weather_airport.HOURLYDRYBULBTEMPF.str.replace('[^\\d]', ''), errors='coerce')\n",
    "weather_airport['wind_speed'] = weather_airport.HOURLYWindSpeed.str.replace('[a-zA-Z]', '').astype('float')\n",
    "weather_airport.HOURLYPrecip.replace({'T': '0.00'}, inplace=True)\n",
    "weather_airport['precipitation'] = weather_airport.HOURLYPrecip.str.replace('[a-zA-Z]', '').astype('float')\n",
    "\n",
    "# remove 'Summary of Day' Report\n",
    "weather_airport = weather_airport[weather_airport['REPORTTPYE'] != 'SOD']\n",
    "\n",
    "weather_airport = weather_airport[['temp', 'wind_speed', 'precipitation']]\n",
    "\n",
    "weather_airport_by_hour = weather_airport.resample('1h').max()\n",
    "\n",
    "weather_airport_by_hour['precipitation'] = weather_airport_by_hour.precipitation.fillna(0)\n",
    "weather_airport_by_hour['temp'] = weather_airport_by_hour.temp.interpolate()\n",
    "weather_airport_by_hour['wind_speed'] = weather_airport_by_hour.wind_speed.interpolate()"
   ]
  },
  {
   "cell_type": "code",
   "execution_count": 3,
   "metadata": {},
   "outputs": [],
   "source": [
    "weather_airport_by_hour.to_pickle('../../data/interim/features/weather.pickle')"
   ]
  }
 ],
 "metadata": {
  "kernelspec": {
   "display_name": "Python 3",
   "language": "python",
   "name": "python3"
  },
  "language_info": {
   "codemirror_mode": {
    "name": "ipython",
    "version": 3
   },
   "file_extension": ".py",
   "mimetype": "text/x-python",
   "name": "python",
   "nbconvert_exporter": "python",
   "pygments_lexer": "ipython3",
   "version": "3.6.5"
  }
 },
 "nbformat": 4,
 "nbformat_minor": 2
}
