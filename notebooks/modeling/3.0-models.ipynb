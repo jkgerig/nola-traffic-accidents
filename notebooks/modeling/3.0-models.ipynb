{
 "cells": [
  {
   "cell_type": "code",
   "execution_count": 1,
   "metadata": {},
   "outputs": [],
   "source": [
    "import numpy as np\n",
    "import pandas as pd\n",
    "from sklearn.model_selection import train_test_split\n",
    "from sklearn.ensemble import RandomForestClassifier\n",
    "from sklearn import metrics\n",
    "import matplotlib.pyplot as plt\n",
    "import seaborn as sns"
   ]
  },
  {
   "cell_type": "code",
   "execution_count": 2,
   "metadata": {},
   "outputs": [],
   "source": [
    "data = pd.read_pickle('../../data/processed/all_samples.pickle')"
   ]
  },
  {
   "cell_type": "code",
   "execution_count": 3,
   "metadata": {},
   "outputs": [],
   "source": [
    "features = ['daylight_yn',\n",
    "            'holiday_yn',\n",
    "            'rush_hour_yn',\n",
    "            'temp',\n",
    "            'wind_speed',\n",
    "            'precipitation',\n",
    "            'road_length',\n",
    "            'class_freeway',\n",
    "            'class_local',\n",
    "            'class_major',\n",
    "            'class_other',\n",
    "            'class_unimproved']\n",
    "\n",
    "labels = 'accident_yn'"
   ]
  },
  {
   "cell_type": "code",
   "execution_count": 4,
   "metadata": {},
   "outputs": [],
   "source": [
    "X = data[features]\n",
    "y = data[labels]"
   ]
  },
  {
   "cell_type": "code",
   "execution_count": 5,
   "metadata": {},
   "outputs": [],
   "source": [
    "X_train, X_test, y_train, y_test = train_test_split(X, y, test_size=0.4, random_state=42)"
   ]
  },
  {
   "cell_type": "code",
   "execution_count": 6,
   "metadata": {},
   "outputs": [
    {
     "name": "stdout",
     "output_type": "stream",
     "text": [
      "Random Forest (n=100)\n",
      "Accuracy: 0.8211645646353579\n",
      "Precision: 0.656999452799215\n",
      "Recall: 0.5889247839250377\n",
      "road_length         0.550893\n",
      "temp                0.163282\n",
      "class_major         0.087130\n",
      "wind_speed          0.078128\n",
      "class_local         0.061115\n",
      "daylight_yn         0.018803\n",
      "precipitation       0.013709\n",
      "class_freeway       0.009210\n",
      "rush_hour_yn        0.007006\n",
      "class_unimproved    0.006917\n",
      "holiday_yn          0.003110\n",
      "class_other         0.000698\n",
      "dtype: float64\n"
     ]
    }
   ],
   "source": [
    "forest_100 = RandomForestClassifier(n_estimators=100)\n",
    "\n",
    "forest_100.fit(X_train, y_train)\n",
    "\n",
    "y_pred_100 = forest_100.predict(X_test)\n",
    "\n",
    "print('Random Forest (n=100)')\n",
    "\n",
    "print('Accuracy:', metrics.accuracy_score(y_test, y_pred_100))\n",
    "print('Precision:', metrics.precision_score(y_test, y_pred_100))\n",
    "print('Recall:', metrics.recall_score(y_test, y_pred_100))\n",
    "\n",
    "feature_importance_100 = pd.Series(forest_100.feature_importances_, index=X.columns).sort_values(ascending=False)\n",
    "print(feature_importance_100)"
   ]
  },
  {
   "cell_type": "code",
   "execution_count": 7,
   "metadata": {},
   "outputs": [
    {
     "name": "stdout",
     "output_type": "stream",
     "text": [
      "Random Forest (n=500)\n",
      "Accuracy: 0.8204783875258895\n",
      "Precision: 0.654404047976012\n",
      "Recall: 0.5906161730629366\n",
      "road_length         0.537971\n",
      "temp                0.158611\n",
      "class_major         0.090141\n",
      "wind_speed          0.077465\n",
      "class_local         0.073265\n",
      "daylight_yn         0.018672\n",
      "precipitation       0.013502\n",
      "class_freeway       0.010782\n",
      "class_unimproved    0.008533\n",
      "rush_hour_yn        0.007070\n",
      "holiday_yn          0.003076\n",
      "class_other         0.000913\n",
      "dtype: float64\n"
     ]
    }
   ],
   "source": [
    "forest_500 = RandomForestClassifier(n_estimators=500)\n",
    "\n",
    "forest_500.fit(X_train, y_train)\n",
    "\n",
    "y_pred_500 = forest_500.predict(X_test)\n",
    "\n",
    "print('Random Forest (n=500)')\n",
    "\n",
    "print('Accuracy:', metrics.accuracy_score(y_test, y_pred_500))\n",
    "print('Precision:', metrics.precision_score(y_test, y_pred_500))\n",
    "print('Recall:', metrics.recall_score(y_test, y_pred_500))\n",
    "\n",
    "feature_importance_500 = pd.Series(forest_500.feature_importances_, index=X.columns).sort_values(ascending=False)\n",
    "print(feature_importance_500)"
   ]
  }
 ],
 "metadata": {
  "kernelspec": {
   "display_name": "Python 3",
   "language": "python",
   "name": "python3"
  },
  "language_info": {
   "codemirror_mode": {
    "name": "ipython",
    "version": 3
   },
   "file_extension": ".py",
   "mimetype": "text/x-python",
   "name": "python",
   "nbconvert_exporter": "python",
   "pygments_lexer": "ipython3",
   "version": "3.6.5"
  }
 },
 "nbformat": 4,
 "nbformat_minor": 2
}
