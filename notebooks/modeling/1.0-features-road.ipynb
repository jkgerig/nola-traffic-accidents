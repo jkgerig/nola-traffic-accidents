{
 "cells": [
  {
   "cell_type": "markdown",
   "metadata": {},
   "source": [
    "# Road\n",
    "\n",
    "- Road Length\n",
    "- Road Type ('Class')\n",
    "    - Local (y/n)\n",
    "    - Major Arterial (y/n)\n",
    "    - Umimproved (y/n)\n",
    "    - Ramp (y/n)\n",
    "    - Freeway (y/n)\n",
    "    - Other (y/n)"
   ]
  },
  {
   "cell_type": "code",
   "execution_count": 1,
   "metadata": {},
   "outputs": [],
   "source": [
    "# package imports\n",
    "import numpy as np\n",
    "import pandas as pd\n",
    "import geopandas as gpd\n",
    "import matplotlib.pyplot as plt\n",
    "import shapely"
   ]
  },
  {
   "cell_type": "code",
   "execution_count": 2,
   "metadata": {},
   "outputs": [],
   "source": [
    "neighborhoods = gpd.read_file('../../data/raw/Neighborhood_Statistical_Areas/Neighborhood_Statistical_Areas.shp')\n",
    "neighborhoods = neighborhoods.to_crs(epsg=4326)\n",
    "neighborhoods = neighborhoods[['OBJECTID', 'GNOCDC_LAB', 'geometry']]\n",
    "neighborhoods.columns = ['nhood_id', 'nhood', 'geometry']"
   ]
  },
  {
   "cell_type": "code",
   "execution_count": 3,
   "metadata": {},
   "outputs": [],
   "source": [
    "streets = gpd.read_file('../../data/raw/Road_Centerline/geo_export_c02761a8-1d85-477e-a5cf-01b9f22f4d88.shp')\n",
    "\n",
    "streets_columns = ['joinid',\n",
    "                   'fromright',\n",
    "                   'centerline',\n",
    "                   'roadclass',\n",
    "                   'fullname',\n",
    "                   'toleft',\n",
    "                   'toright',\n",
    "                   'fullnameab',\n",
    "                   'objectid',\n",
    "                   'shape_leng',\n",
    "                   'fromleft',\n",
    "                   'geometry']\n",
    "\n",
    "streets = streets[streets_columns]"
   ]
  },
  {
   "cell_type": "code",
   "execution_count": 4,
   "metadata": {},
   "outputs": [],
   "source": [
    "streets_reference = streets[['joinid', 'roadclass', 'fullname', 'fullnameab', 'objectid', 'shape_leng', 'geometry']]"
   ]
  },
  {
   "cell_type": "code",
   "execution_count": 5,
   "metadata": {},
   "outputs": [
    {
     "name": "stdout",
     "output_type": "stream",
     "text": [
      "Warning: CRS does not match!\n"
     ]
    }
   ],
   "source": [
    "streets_join_nhoods = gpd.sjoin(streets, neighborhoods)"
   ]
  },
  {
   "cell_type": "code",
   "execution_count": 6,
   "metadata": {},
   "outputs": [],
   "source": [
    "join_many = streets_join_nhoods[streets_join_nhoods.objectid.duplicated(keep=False)].sort_values('objectid')\n",
    "join_single = streets_join_nhoods[~streets_join_nhoods.objectid.duplicated(keep=False)].sort_values('objectid')"
   ]
  },
  {
   "cell_type": "code",
   "execution_count": 7,
   "metadata": {},
   "outputs": [
    {
     "name": "stdout",
     "output_type": "stream",
     "text": [
      "Warning: CRS does not match!\n"
     ]
    }
   ],
   "source": [
    "join_many.index = join_many.objectid\n",
    "join_many.drop_duplicates('objectid', inplace=True)\n",
    "\n",
    "centroids = join_many.geometry.centroid\n",
    "centroids = gpd.GeoDataFrame(centroids)\n",
    "centroids.columns = ['geometry']\n",
    "\n",
    "centroids_nhoods = gpd.sjoin(centroids, neighborhoods, how='left')\n",
    "centroids_nhoods['objectid'] = centroids_nhoods.index\n",
    "centroids_nhoods = centroids_nhoods.merge(streets_reference, on='objectid')\n",
    "\n",
    "subset = ['joinid',\n",
    "          'fullname',\n",
    "          'fullnameab',\n",
    "          'objectid',\n",
    "          'shape_leng',\n",
    "          'geometry_y',\n",
    "          'nhood_id',\n",
    "          'nhood']\n",
    "\n",
    "centroids_nhoods = centroids_nhoods[subset]\n",
    "\n",
    "column_names = ['joinid',\n",
    "                'fullname',\n",
    "                'fullnameab',\n",
    "                'objectid',\n",
    "                'shape_leng',\n",
    "                'geometry',\n",
    "                'nhood_id',\n",
    "                'nhood']\n",
    "\n",
    "centroids_nhoods.columns = column_names"
   ]
  },
  {
   "cell_type": "code",
   "execution_count": 8,
   "metadata": {},
   "outputs": [],
   "source": [
    "subset = ['joinid', 'fullname', 'fullnameab', 'objectid', 'shape_leng', 'geometry', 'nhood_id', 'nhood']\n",
    "streets_nhoods = join_single[subset]"
   ]
  },
  {
   "cell_type": "code",
   "execution_count": 9,
   "metadata": {},
   "outputs": [],
   "source": [
    "streets_nhoods = pd.concat([streets_nhoods, centroids_nhoods], ignore_index=True)"
   ]
  },
  {
   "cell_type": "code",
   "execution_count": 10,
   "metadata": {},
   "outputs": [],
   "source": [
    "subset = ['joinid', 'shape_leng', 'nhood_id', 'geometry']\n",
    "\n",
    "dissolve_by = ['joinid', 'nhood_id']\n",
    "\n",
    "streets_dissolved = streets_nhoods[subset].dissolve(by=dissolve_by, aggfunc='sum')\n",
    "\n",
    "streets_dissolved = streets_dissolved.reset_index()"
   ]
  },
  {
   "cell_type": "code",
   "execution_count": 11,
   "metadata": {},
   "outputs": [],
   "source": [
    "ref_columns = ['joinid', 'roadclass', 'fullname', 'fullnameab']\n",
    "street_mode = lambda x:x.value_counts().index[0]\n",
    "street_info = streets_reference[ref_columns].groupby('joinid').agg(street_mode).reset_index()"
   ]
  },
  {
   "cell_type": "code",
   "execution_count": 12,
   "metadata": {},
   "outputs": [],
   "source": [
    "streets_by_neighborhood = streets_dissolved.merge(street_info, on='joinid')\n",
    "streets_by_neighborhood = streets_by_neighborhood[~streets_by_neighborhood[['joinid', 'nhood_id']].duplicated()]\n",
    "streets_by_neighborhood['roadclass'] = streets_by_neighborhood.roadclass.fillna('Other')\n",
    "\n",
    "streets_by_neighborhood['segment_id'] = streets_by_neighborhood.nhood_id.astype('str') \\\n",
    "                                        + '_' \\\n",
    "                                        + streets_by_neighborhood.joinid.astype('str')"
   ]
  },
  {
   "cell_type": "code",
   "execution_count": 13,
   "metadata": {},
   "outputs": [],
   "source": [
    "streets_by_neighborhood = pd.get_dummies(streets_by_neighborhood, prefix='class', columns=['roadclass'])"
   ]
  },
  {
   "cell_type": "code",
   "execution_count": 14,
   "metadata": {},
   "outputs": [],
   "source": [
    "streets_by_neighborhood.to_pickle('../../data/interim/features/streets_by_nhood.pickle')"
   ]
  }
 ],
 "metadata": {
  "kernelspec": {
   "display_name": "Python 3",
   "language": "python",
   "name": "python3"
  },
  "language_info": {
   "codemirror_mode": {
    "name": "ipython",
    "version": 3
   },
   "file_extension": ".py",
   "mimetype": "text/x-python",
   "name": "python",
   "nbconvert_exporter": "python",
   "pygments_lexer": "ipython3",
   "version": "3.6.5"
  }
 },
 "nbformat": 4,
 "nbformat_minor": 2
}
