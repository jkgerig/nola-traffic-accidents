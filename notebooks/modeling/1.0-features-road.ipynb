{
 "cells": [
  {
   "cell_type": "markdown",
   "metadata": {},
   "source": [
    "# Road\n",
    "\n",
    "- Road Length\n",
    "- Road Type ('Class')\n",
    "    - Local (y/n)\n",
    "    - Major Arterial (y/n)\n",
    "    - Umimproved (y/n)\n",
    "    - Ramp (y/n)\n",
    "    - Freeway (y/n)\n",
    "    - Other (implied, do not create separate dummy var)\n",
    "- Construction Status (y/n)"
   ]
  },
  {
   "cell_type": "code",
   "execution_count": 1,
   "metadata": {},
   "outputs": [],
   "source": [
    "# package imports\n",
    "import numpy as np\n",
    "import pandas as pd\n",
    "import geopandas as gpd\n",
    "import matplotlib.pyplot as plt\n",
    "import shapely"
   ]
  },
  {
   "cell_type": "markdown",
   "metadata": {},
   "source": [
    "## Road Length"
   ]
  },
  {
   "cell_type": "code",
   "execution_count": 2,
   "metadata": {},
   "outputs": [],
   "source": [
    "neighborhoods = gpd.read_file('../../data/raw/Neighborhood_Statistical_Areas/Neighborhood_Statistical_Areas.shp')"
   ]
  },
  {
   "cell_type": "code",
   "execution_count": 3,
   "metadata": {},
   "outputs": [],
   "source": [
    "streets = gpd.read_file('../../data/raw/Road_Centerline/geo_export_c02761a8-1d85-477e-a5cf-01b9f22f4d88.shp')"
   ]
  },
  {
   "cell_type": "code",
   "execution_count": 4,
   "metadata": {},
   "outputs": [],
   "source": [
    "neighborhoods = neighborhoods.to_crs(epsg=4326)"
   ]
  },
  {
   "cell_type": "code",
   "execution_count": 5,
   "metadata": {},
   "outputs": [],
   "source": [
    "streets_columns = [\n",
    "'joinid',\n",
    "'fromright',\n",
    "'centerline',\n",
    "'roadclass',\n",
    "'fullname',\n",
    "'toleft',\n",
    "'toright',\n",
    "'fullnameab',\n",
    "'objectid',\n",
    "'shape_leng',\n",
    "'fromleft',\n",
    "'geometry']"
   ]
  },
  {
   "cell_type": "code",
   "execution_count": 6,
   "metadata": {},
   "outputs": [],
   "source": [
    "streets = streets[streets_columns]"
   ]
  },
  {
   "cell_type": "code",
   "execution_count": 7,
   "metadata": {},
   "outputs": [],
   "source": [
    "streets = streets.set_index('objectid')"
   ]
  },
  {
   "cell_type": "code",
   "execution_count": 8,
   "metadata": {},
   "outputs": [],
   "source": [
    "streets_centroids = streets.geometry.centroid"
   ]
  },
  {
   "cell_type": "code",
   "execution_count": 9,
   "metadata": {},
   "outputs": [],
   "source": [
    "streets_centroids = gpd.GeoDataFrame(streets_centroids)"
   ]
  },
  {
   "cell_type": "code",
   "execution_count": 10,
   "metadata": {},
   "outputs": [],
   "source": [
    "streets_centroids.columns = ['geometry']"
   ]
  },
  {
   "cell_type": "code",
   "execution_count": 11,
   "metadata": {},
   "outputs": [
    {
     "name": "stdout",
     "output_type": "stream",
     "text": [
      "Warning: CRS does not match!\n"
     ]
    }
   ],
   "source": [
    "streets_centroids_nhoods = gpd.sjoin(streets_centroids, neighborhoods, how='left')"
   ]
  },
  {
   "cell_type": "code",
   "execution_count": 12,
   "metadata": {},
   "outputs": [],
   "source": [
    "unmatched_streets = streets_centroids_nhoods[streets_centroids_nhoods['GNOCDC_LAB'].isna()].merge(streets, left_index=True, right_index=True)"
   ]
  },
  {
   "cell_type": "code",
   "execution_count": 13,
   "metadata": {},
   "outputs": [],
   "source": [
    "unmatched_streets['geometry'] = unmatched_streets.geometry_y"
   ]
  },
  {
   "cell_type": "code",
   "execution_count": 14,
   "metadata": {},
   "outputs": [],
   "source": [
    "unmatched_streets = gpd.GeoDataFrame(unmatched_streets)"
   ]
  },
  {
   "cell_type": "code",
   "execution_count": 15,
   "metadata": {},
   "outputs": [
    {
     "name": "stdout",
     "output_type": "stream",
     "text": [
      "Warning: CRS does not match!\n"
     ]
    }
   ],
   "source": [
    "rematched_streets = gpd.sjoin(unmatched_streets[['geometry']], neighborhoods)"
   ]
  },
  {
   "cell_type": "code",
   "execution_count": 16,
   "metadata": {},
   "outputs": [],
   "source": [
    "rematched_streets['objectid'] = rematched_streets.index"
   ]
  },
  {
   "cell_type": "code",
   "execution_count": 17,
   "metadata": {},
   "outputs": [],
   "source": [
    "rematched_streets = rematched_streets.dissolve(by='objectid')"
   ]
  },
  {
   "cell_type": "code",
   "execution_count": 18,
   "metadata": {},
   "outputs": [],
   "source": [
    "rematched_streets = rematched_streets[['OBJECTID', 'GNOCDC_LAB']]"
   ]
  },
  {
   "cell_type": "code",
   "execution_count": 19,
   "metadata": {},
   "outputs": [],
   "source": [
    "street_nhood_ids = streets_centroids_nhoods.loc[streets_centroids_nhoods.GNOCDC_LAB.notna(), ['OBJECTID', 'GNOCDC_LAB']].append(rematched_streets[['OBJECTID', 'GNOCDC_LAB']])"
   ]
  },
  {
   "cell_type": "code",
   "execution_count": 20,
   "metadata": {},
   "outputs": [],
   "source": [
    "streets_nhoods = streets.merge(street_nhood_ids, left_index=True, right_index=True)"
   ]
  },
  {
   "cell_type": "code",
   "execution_count": 21,
   "metadata": {},
   "outputs": [],
   "source": [
    "streets_nhoods.columns = [\n",
    "    'street_id',\n",
    "    'fromright',\n",
    "    'centerline',\n",
    "    'roadclass',\n",
    "    'fullname',\n",
    "    'toleft',\n",
    "    'toright',\n",
    "    'fullnameab',\n",
    "    'shape_leng',\n",
    "    'fromleft',\n",
    "    'geometry',\n",
    "    'nhood_id',\n",
    "    'nhood']"
   ]
  },
  {
   "cell_type": "code",
   "execution_count": 22,
   "metadata": {},
   "outputs": [],
   "source": [
    "streets_nhoods['nhood_id'] = streets_nhoods.nhood_id.astype('int')"
   ]
  },
  {
   "cell_type": "code",
   "execution_count": 23,
   "metadata": {},
   "outputs": [],
   "source": [
    "streets_by_neighborhood = gpd.GeoDataFrame()\n",
    "for nhood_id in neighborhoods.OBJECTID:\n",
    "    gdf_nhood = streets_nhoods.loc[streets_nhoods['nhood_id'] == nhood_id, ['street_id', 'roadclass', 'fullname', 'fullnameab', 'geometry', 'nhood_id', 'nhood']]\n",
    "    streets_by_neighborhood = streets_by_neighborhood.append(gdf_nhood.dissolve(by='street_id'))\n"
   ]
  },
  {
   "cell_type": "code",
   "execution_count": 24,
   "metadata": {},
   "outputs": [],
   "source": [
    "streets_by_neighborhood['street_id'] = streets_by_neighborhood.index"
   ]
  },
  {
   "cell_type": "code",
   "execution_count": 25,
   "metadata": {},
   "outputs": [],
   "source": [
    "streets_by_neighborhood = streets_by_neighborhood.to_crs({'proj': 'lcc',\n",
    "                                                          'lat_1': 29.3,\n",
    "                                                          'lat_2': 30.7,\n",
    "                                                          'lat_0': 28.5,\n",
    "                                                          'lon_0': -91.33333333333333,\n",
    "                                                          'x_0': 1000000,\n",
    "                                                          'y_0': 0,\n",
    "                                                          'datum': 'NAD83',\n",
    "                                                          'units': 'us-ft',\n",
    "                                                          'no_defs': True})"
   ]
  },
  {
   "cell_type": "code",
   "execution_count": 26,
   "metadata": {},
   "outputs": [],
   "source": [
    "streets_by_neighborhood['street_length_ft'] =  streets_by_neighborhood.geometry.length"
   ]
  },
  {
   "cell_type": "code",
   "execution_count": 27,
   "metadata": {},
   "outputs": [],
   "source": [
    "streets_by_neighborhood['segment_id'] = streets_by_neighborhood.nhood_id.astype('str') + '_' + streets_by_neighborhood.street_id.astype('str')"
   ]
  },
  {
   "cell_type": "markdown",
   "metadata": {},
   "source": [
    "## Road Class"
   ]
  },
  {
   "cell_type": "code",
   "execution_count": 28,
   "metadata": {},
   "outputs": [],
   "source": [
    "streets_by_neighborhood['roadclass'] = streets_by_neighborhood.roadclass.fillna('Other')"
   ]
  },
  {
   "cell_type": "code",
   "execution_count": 29,
   "metadata": {},
   "outputs": [],
   "source": [
    "streets_by_neighborhood = pd.get_dummies(streets_by_neighborhood, prefix='class', columns=['roadclass'])"
   ]
  },
  {
   "cell_type": "code",
   "execution_count": 30,
   "metadata": {},
   "outputs": [],
   "source": [
    "streets_by_neighborhood.to_pickle('../../data/interim/features/roads.pickle')"
   ]
  },
  {
   "cell_type": "markdown",
   "metadata": {},
   "source": [
    "## Construction Status"
   ]
  },
  {
   "cell_type": "code",
   "execution_count": 31,
   "metadata": {},
   "outputs": [],
   "source": [
    "dpw_projects = gpd.read_file('../../data/raw/Dept_of_Public_Works_Roadwork_Projects/Dept_of_Public_Works_Roadwork_Projects.shp')\n",
    "\n",
    "dpw_projects['StartDate'] = pd.to_datetime(dpw_projects.StartQtr, errors='coerce')\n",
    "dpw_projects['StartDate_2'] = pd.to_datetime(dpw_projects[dpw_projects.StartDate.isna()].StartQtr.str.replace('-...', ''))\n",
    "dpw_projects['StartDate'] = np.where(dpw_projects.StartDate.isna(), dpw_projects.StartDate_2, dpw_projects.StartDate)\n",
    "dpw_projects['EndDate'] = pd.to_datetime(dpw_projects.EndQtr, errors='coerce')\n",
    "dpw_projects['EndDate_2'] = pd.to_datetime(dpw_projects[dpw_projects.EndDate.isna()].EndQtr.str.replace('-...', ''))\n",
    "dpw_projects['EndDate'] = np.where(dpw_projects.EndDate.isna(), dpw_projects.EndDate_2, dpw_projects.EndDate)\n",
    "dpw_projects = dpw_projects[['OBJECTID', 'PROJID', 'CONSTTYPE', 'PROJTYPE', 'NHOOD', 'geometry', 'StartDate', 'EndDate']]\n",
    "dpw_projects = dpw_projects.set_index('OBJECTID')"
   ]
  },
  {
   "cell_type": "code",
   "execution_count": 32,
   "metadata": {},
   "outputs": [],
   "source": [
    "streets_projects = gpd.sjoin(streets_by_neighborhood, dpw_projects)"
   ]
  },
  {
   "cell_type": "code",
   "execution_count": 33,
   "metadata": {},
   "outputs": [],
   "source": [
    "streets_projects = streets_projects[['segment_id', 'index_right', 'StartDate', 'EndDate']]"
   ]
  },
  {
   "cell_type": "code",
   "execution_count": 34,
   "metadata": {},
   "outputs": [],
   "source": [
    "streets_projects = streets_projects[streets_projects.EndDate > '2011-12-31']"
   ]
  },
  {
   "cell_type": "code",
   "execution_count": 35,
   "metadata": {},
   "outputs": [],
   "source": [
    "streets_projects = streets_projects[streets_projects.StartDate < '2018-07-01']"
   ]
  },
  {
   "cell_type": "code",
   "execution_count": 36,
   "metadata": {},
   "outputs": [],
   "source": [
    "streets_projects.columns = ['segment_id', 'dpw_id', 'StartDate', 'EndDate']"
   ]
  },
  {
   "cell_type": "code",
   "execution_count": 37,
   "metadata": {},
   "outputs": [],
   "source": [
    "streets_projects.to_pickle('../../data/interim/features/construction_status.pickle')"
   ]
  }
 ],
 "metadata": {
  "kernelspec": {
   "display_name": "Python 3",
   "language": "python",
   "name": "python3"
  },
  "language_info": {
   "codemirror_mode": {
    "name": "ipython",
    "version": 3
   },
   "file_extension": ".py",
   "mimetype": "text/x-python",
   "name": "python",
   "nbconvert_exporter": "python",
   "pygments_lexer": "ipython3",
   "version": "3.6.5"
  }
 },
 "nbformat": 4,
 "nbformat_minor": 2
}
