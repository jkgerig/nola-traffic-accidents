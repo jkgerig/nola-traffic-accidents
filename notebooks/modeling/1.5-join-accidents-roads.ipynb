{
 "cells": [
  {
   "cell_type": "code",
   "execution_count": 1,
   "metadata": {},
   "outputs": [],
   "source": [
    "import shapely as shp\n",
    "import numpy as np\n",
    "import pandas as pd\n",
    "import geopandas as gpd\n",
    "import matplotlib.pyplot as plt"
   ]
  },
  {
   "cell_type": "code",
   "execution_count": 2,
   "metadata": {},
   "outputs": [],
   "source": [
    "streets = pd.read_pickle('../../data/interim/features/streets_by_nhood.pickle')"
   ]
  },
  {
   "cell_type": "code",
   "execution_count": 3,
   "metadata": {},
   "outputs": [],
   "source": [
    "neighborhoods = gpd.read_file('../../data/raw/Neighborhood_Statistical_Areas/Neighborhood_Statistical_Areas.shp')\n",
    "neighborhoods = neighborhoods.to_crs(epsg=4326)\n",
    "neighborhoods = neighborhoods[['OBJECTID', 'GNOCDC_LAB', 'geometry']]\n",
    "neighborhoods.columns = ['nhood_id', 'nhood', 'geometry']"
   ]
  },
  {
   "cell_type": "code",
   "execution_count": 4,
   "metadata": {},
   "outputs": [],
   "source": [
    "accidents = pd.read_pickle('../../data/interim/features/accidents.pickle')\n",
    "accidents['geometry'] = list(zip(accidents.lon, accidents.lat))\n",
    "accidents['geometry'] = accidents.geometry.apply(shp.geometry.Point)\n",
    "accidents = gpd.GeoDataFrame(accidents, geometry='geometry')\n",
    "accidents.crs = {'init' :'epsg:4326'}"
   ]
  },
  {
   "cell_type": "code",
   "execution_count": 5,
   "metadata": {},
   "outputs": [],
   "source": [
    "crs_louisiana = {'proj': 'lcc',\n",
    "                 'lat_1': 29.3,\n",
    "                 'lat_2': 30.7,\n",
    "                 'lat_0': 28.5,\n",
    "                 'lon_0': -91.33333333333333,\n",
    "                 'x_0': 1000000,\n",
    "                 'y_0': 0,\n",
    "                 'datum': 'NAD83',\n",
    "                 'units': 'us-ft',\n",
    "                 'no_defs': True}"
   ]
  },
  {
   "cell_type": "code",
   "execution_count": 6,
   "metadata": {},
   "outputs": [
    {
     "name": "stdout",
     "output_type": "stream",
     "text": [
      "Warning: CRS does not match!\n"
     ]
    }
   ],
   "source": [
    "accidents_in_neighborhoods = gpd.sjoin(accidents, neighborhoods)"
   ]
  },
  {
   "cell_type": "code",
   "execution_count": 7,
   "metadata": {},
   "outputs": [],
   "source": [
    "accidents_in_neighborhoods['ItemNumber'] = accidents_in_neighborhoods.index"
   ]
  },
  {
   "cell_type": "code",
   "execution_count": 8,
   "metadata": {},
   "outputs": [],
   "source": [
    "columns = ['ItemNumber', 'TimeCreate', 'street_1', 'street_2', 'geometry', 'nhood_id', 'nhood']\n",
    "accidents_in_neighborhoods = accidents_in_neighborhoods[columns]"
   ]
  },
  {
   "cell_type": "code",
   "execution_count": 9,
   "metadata": {},
   "outputs": [],
   "source": [
    "accidents_join_street = pd.merge(accidents_in_neighborhoods,\n",
    "                                 streets,\n",
    "                                 left_on=['street_1', 'nhood_id'],\n",
    "                                 right_on=['fullnameab', 'nhood_id'])"
   ]
  },
  {
   "cell_type": "code",
   "execution_count": 10,
   "metadata": {},
   "outputs": [],
   "source": [
    "# select unmatched accidents\n",
    "unmatched_accidents = accidents_in_neighborhoods[~accidents_in_neighborhoods.index.isin(accidents_join_street.ItemNumber)]"
   ]
  },
  {
   "cell_type": "code",
   "execution_count": 11,
   "metadata": {},
   "outputs": [],
   "source": [
    "rematched_accidents = pd.merge(unmatched_accidents,\n",
    "                               streets,\n",
    "                               left_on=['street_2', 'nhood_id'],\n",
    "                               right_on=['fullnameab', 'nhood_id'])"
   ]
  },
  {
   "cell_type": "code",
   "execution_count": 12,
   "metadata": {},
   "outputs": [],
   "source": [
    "no_street_match = unmatched_accidents[~unmatched_accidents.index.isin(rematched_accidents.ItemNumber)]"
   ]
  },
  {
   "cell_type": "code",
   "execution_count": 13,
   "metadata": {},
   "outputs": [],
   "source": [
    "street_match = pd.concat([accidents_join_street, rematched_accidents], ignore_index=True)\n",
    "street_match = street_match[['ItemNumber', 'TimeCreate', 'segment_id']]"
   ]
  },
  {
   "cell_type": "code",
   "execution_count": 14,
   "metadata": {},
   "outputs": [],
   "source": [
    "no_street_match = no_street_match.to_crs(crs_louisiana)"
   ]
  },
  {
   "cell_type": "code",
   "execution_count": 15,
   "metadata": {},
   "outputs": [],
   "source": [
    "unmatched_items = no_street_match.index"
   ]
  },
  {
   "cell_type": "code",
   "execution_count": 16,
   "metadata": {},
   "outputs": [],
   "source": [
    "no_street_match['buffer_50'] = no_street_match.geometry.buffer(50)\n",
    "no_street_match['buffer_100'] = no_street_match.geometry.buffer(100)\n",
    "no_street_match['buffer_250'] = no_street_match.geometry.buffer(250)"
   ]
  },
  {
   "cell_type": "code",
   "execution_count": 17,
   "metadata": {},
   "outputs": [],
   "source": [
    "buffer_50 = no_street_match.set_geometry('buffer_50')\n",
    "buffer_100 = no_street_match.set_geometry('buffer_100')\n",
    "buffer_250 = no_street_match.set_geometry('buffer_250')"
   ]
  },
  {
   "cell_type": "code",
   "execution_count": 18,
   "metadata": {},
   "outputs": [],
   "source": [
    "streets_la_crs = streets.to_crs(crs_louisiana)"
   ]
  },
  {
   "cell_type": "code",
   "execution_count": 19,
   "metadata": {},
   "outputs": [],
   "source": [
    "spatial_join_50 = gpd.sjoin(buffer_50, streets_la_crs)\n",
    "spatial_join_100 = gpd.sjoin(buffer_100, streets_la_crs)\n",
    "spatial_join_250 = gpd.sjoin(buffer_250, streets_la_crs)"
   ]
  },
  {
   "cell_type": "code",
   "execution_count": 20,
   "metadata": {},
   "outputs": [],
   "source": [
    "nhood_match_50 = spatial_join_50[spatial_join_50.nhood_id_left == spatial_join_50.nhood_id_right]"
   ]
  },
  {
   "cell_type": "code",
   "execution_count": 21,
   "metadata": {},
   "outputs": [],
   "source": [
    "nhood_match_50_unique = nhood_match_50.groupby('ItemNumber').first()\n",
    "nhood_match_50_unique = nhood_match_50_unique.reset_index()\n",
    "nhood_match_50_unique = nhood_match_50_unique[['ItemNumber', 'TimeCreate', 'segment_id']]"
   ]
  },
  {
   "cell_type": "code",
   "execution_count": 22,
   "metadata": {},
   "outputs": [],
   "source": [
    "unmatched_items = unmatched_items[~unmatched_items.isin(nhood_match_50_unique.ItemNumber)]"
   ]
  },
  {
   "cell_type": "code",
   "execution_count": 23,
   "metadata": {},
   "outputs": [],
   "source": [
    "spatial_join_100_unmatched = spatial_join_100[spatial_join_100.index.isin(unmatched_items)]\n",
    "nhood_match_100 = spatial_join_100_unmatched[spatial_join_100_unmatched.nhood_id_left == spatial_join_100_unmatched.nhood_id_right]"
   ]
  },
  {
   "cell_type": "code",
   "execution_count": 24,
   "metadata": {},
   "outputs": [],
   "source": [
    "nhood_match_100_unique = nhood_match_100.groupby('ItemNumber').first()\n",
    "nhood_match_100_unique = nhood_match_100_unique.reset_index()\n",
    "nhood_match_100_unique = nhood_match_100_unique[['ItemNumber', 'TimeCreate', 'segment_id']]"
   ]
  },
  {
   "cell_type": "code",
   "execution_count": 25,
   "metadata": {},
   "outputs": [],
   "source": [
    "unmatched_items = unmatched_items[~unmatched_items.isin(nhood_match_100_unique.ItemNumber)]"
   ]
  },
  {
   "cell_type": "code",
   "execution_count": 26,
   "metadata": {},
   "outputs": [],
   "source": [
    "spatial_join_250_unmatched = spatial_join_250[spatial_join_250.index.isin(unmatched_items)]\n",
    "nhood_match_250 = spatial_join_250_unmatched[spatial_join_250_unmatched.nhood_id_left == spatial_join_250_unmatched.nhood_id_right]"
   ]
  },
  {
   "cell_type": "code",
   "execution_count": 27,
   "metadata": {},
   "outputs": [],
   "source": [
    "nhood_match_250_unique = nhood_match_250.groupby('ItemNumber').first()\n",
    "nhood_match_250_unique = nhood_match_250_unique.reset_index()\n",
    "nhood_match_250_unique = nhood_match_250_unique[['ItemNumber', 'TimeCreate', 'segment_id']]"
   ]
  },
  {
   "cell_type": "code",
   "execution_count": 28,
   "metadata": {},
   "outputs": [],
   "source": [
    "dataframes = [street_match,\n",
    "              nhood_match_50_unique,\n",
    "              nhood_match_100_unique,\n",
    "              nhood_match_250_unique]\n",
    "\n",
    "joined_matches = pd.concat(dataframes, ignore_index=True)"
   ]
  },
  {
   "cell_type": "code",
   "execution_count": 29,
   "metadata": {},
   "outputs": [],
   "source": [
    "street_by_time = joined_matches.groupby(['segment_id', 'TimeCreate']).count().reset_index()"
   ]
  },
  {
   "cell_type": "code",
   "execution_count": 30,
   "metadata": {},
   "outputs": [],
   "source": [
    "street_by_time['day_hour'] = street_by_time.TimeCreate.dt.date.astype('str') \\\n",
    "                             + ' ' \\\n",
    "                             + street_by_time.TimeCreate.dt.hour.astype('str') \\\n",
    "                             + ':00:00'\n",
    "\n",
    "street_by_time['day_hour'] = pd.to_datetime(street_by_time.day_hour)"
   ]
  },
  {
   "cell_type": "code",
   "execution_count": 31,
   "metadata": {},
   "outputs": [],
   "source": [
    "street_by_time = street_by_time[['day_hour', 'segment_id', 'ItemNumber']]\n",
    "street_by_time.columns = ['day_hour', 'segment_id', 'accident_yn']"
   ]
  },
  {
   "cell_type": "code",
   "execution_count": 32,
   "metadata": {},
   "outputs": [],
   "source": [
    "street_by_time.to_pickle('../../data/interim/features/street_by_time.pickle')"
   ]
  }
 ],
 "metadata": {
  "kernelspec": {
   "display_name": "Python 3",
   "language": "python",
   "name": "python3"
  },
  "language_info": {
   "codemirror_mode": {
    "name": "ipython",
    "version": 3
   },
   "file_extension": ".py",
   "mimetype": "text/x-python",
   "name": "python",
   "nbconvert_exporter": "python",
   "pygments_lexer": "ipython3",
   "version": "3.6.5"
  }
 },
 "nbformat": 4,
 "nbformat_minor": 2
}
