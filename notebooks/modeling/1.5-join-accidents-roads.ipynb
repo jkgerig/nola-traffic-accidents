{
 "cells": [
  {
   "cell_type": "code",
   "execution_count": 1,
   "metadata": {},
   "outputs": [],
   "source": [
    "import shapely as shp\n",
    "import numpy as np\n",
    "import pandas as pd\n",
    "import geopandas as gpd\n",
    "import matplotlib.pyplot as plt"
   ]
  },
  {
   "cell_type": "code",
   "execution_count": 2,
   "metadata": {},
   "outputs": [],
   "source": [
    "accidents = pd.read_pickle('../../data/interim/features/accidents.pickle')\n",
    "accidents['geometry'] = list(zip(accidents.lon, accidents.lat))\n",
    "accidents['geometry'] = accidents.geometry.apply(shp.geometry.Point)\n",
    "accidents = gpd.GeoDataFrame(accidents, geometry='geometry')"
   ]
  },
  {
   "cell_type": "code",
   "execution_count": 8,
   "metadata": {},
   "outputs": [],
   "source": [
    "roads = pd.read_pickle('../../data/interim/features/roads.pickle')"
   ]
  },
  {
   "cell_type": "code",
   "execution_count": 28,
   "metadata": {},
   "outputs": [
    {
     "data": {
      "text/plain": [
       "{'proj': 'lcc',\n",
       " 'lat_1': 29.3,\n",
       " 'lat_2': 30.7,\n",
       " 'lat_0': 28.5,\n",
       " 'lon_0': -91.33333333333333,\n",
       " 'x_0': 1000000,\n",
       " 'y_0': 0,\n",
       " 'datum': 'NAD83',\n",
       " 'units': 'us-ft',\n",
       " 'no_defs': True}"
      ]
     },
     "execution_count": 28,
     "metadata": {},
     "output_type": "execute_result"
    }
   ],
   "source": [
    "roads.crs"
   ]
  },
  {
   "cell_type": "code",
   "execution_count": 30,
   "metadata": {},
   "outputs": [],
   "source": [
    "accidents.crs = {'init' :'epsg:4326'}"
   ]
  },
  {
   "cell_type": "code",
   "execution_count": 32,
   "metadata": {},
   "outputs": [],
   "source": [
    "accidents = accidents.to_crs('+proj=lcc +lat_1=29.3 +lat_2=30.7 +lat_0=28.5 +lon_0=-91.33333333333333 +x_0=1000000 +y_0=0 +ellps=GRS80 +datum=NAD83 +to_meter=0.3048006096012192 +no_defs ')"
   ]
  }
 ],
 "metadata": {
  "kernelspec": {
   "display_name": "Python 3",
   "language": "python",
   "name": "python3"
  },
  "language_info": {
   "codemirror_mode": {
    "name": "ipython",
    "version": 3
   },
   "file_extension": ".py",
   "mimetype": "text/x-python",
   "name": "python",
   "nbconvert_exporter": "python",
   "pygments_lexer": "ipython3",
   "version": "3.6.5"
  }
 },
 "nbformat": 4,
 "nbformat_minor": 2
}
