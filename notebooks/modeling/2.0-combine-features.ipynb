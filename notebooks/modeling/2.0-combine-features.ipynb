{
 "cells": [
  {
   "cell_type": "code",
   "execution_count": 1,
   "metadata": {},
   "outputs": [],
   "source": [
    "# package imports\n",
    "import numpy as np\n",
    "import pandas as pd\n",
    "import geopandas as gpd\n",
    "import matplotlib.pyplot as plt\n",
    "import shapely"
   ]
  },
  {
   "cell_type": "code",
   "execution_count": 2,
   "metadata": {},
   "outputs": [],
   "source": [
    "# load all pickle files\n",
    "accidents = pd.read_pickle('../../data/interim/features/accidents.pickle')\n",
    "construction = pd.read_pickle('../../data/interim/features/construction_status.pickle')\n",
    "daylight = pd.read_pickle('../../data/interim/features/daylight.pickle')\n",
    "holidays = pd.read_pickle('../../data/interim/features/holiday_dates.pickle')\n",
    "roads = pd.read_pickle('../../data/interim/features/roads.pickle')\n",
    "rush_hour = pd.read_pickle('../../data/interim/features/rush_hour.pickle')\n",
    "weather = pd.read_pickle('../../data/interim/features/weather.pickle')"
   ]
  },
  {
   "cell_type": "markdown",
   "metadata": {},
   "source": [
    "**Goal: Dataset for all accidents that is indexed by ROAD SEGMENT and DATETIME**\n",
    "\n",
    "1. Reconfigure accidents dataset to be indexed by road and time\n",
    "2. Merge information from other datasets into new accidents dataset\n",
    "3. Select 3 negative samples for each positive (accident) sample according to methodology from article\n",
    "4. Append negative samples to positive samples and clean up final output dataset"
   ]
  }
 ],
 "metadata": {
  "kernelspec": {
   "display_name": "Python 3",
   "language": "python",
   "name": "python3"
  },
  "language_info": {
   "codemirror_mode": {
    "name": "ipython",
    "version": 3
   },
   "file_extension": ".py",
   "mimetype": "text/x-python",
   "name": "python",
   "nbconvert_exporter": "python",
   "pygments_lexer": "ipython3",
   "version": "3.6.5"
  }
 },
 "nbformat": 4,
 "nbformat_minor": 2
}
