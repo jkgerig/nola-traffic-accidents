{
 "cells": [
  {
   "cell_type": "code",
   "execution_count": 1,
   "metadata": {},
   "outputs": [],
   "source": [
    "import numpy as np\n",
    "import pandas as pd\n",
    "from sklearn.model_selection import train_test_split\n",
    "from sklearn.ensemble import RandomForestClassifier\n",
    "from sklearn import metrics\n",
    "import matplotlib.pyplot as plt\n",
    "import seaborn as sns"
   ]
  },
  {
   "cell_type": "code",
   "execution_count": 2,
   "metadata": {},
   "outputs": [],
   "source": [
    "data = pd.read_pickle('../../data/processed/all_samples.pickle')\n",
    "data['datetime'] = pd.to_datetime(data.date)"
   ]
  },
  {
   "cell_type": "code",
   "execution_count": 3,
   "metadata": {},
   "outputs": [],
   "source": [
    "data['day'] = data.datetime.dt.weekday_name\n",
    "data = pd.get_dummies(data, prefix='day', columns=['day'])"
   ]
  },
  {
   "cell_type": "code",
   "execution_count": 4,
   "metadata": {},
   "outputs": [],
   "source": [
    "features = ['hour',\n",
    "            'daylight_yn',\n",
    "            'holiday_yn',\n",
    "            'rush_hour_yn',\n",
    "            'temp',\n",
    "            'wind_speed',\n",
    "            'precipitation',\n",
    "            'road_length',\n",
    "            'class_freeway',\n",
    "            'class_local',\n",
    "            'class_major',\n",
    "            'class_other',\n",
    "            'class_unimproved',\n",
    "            'day_Monday',\n",
    "            'day_Tuesday',\n",
    "            'day_Wednesday',\n",
    "            'day_Thursday',\n",
    "            'day_Friday',\n",
    "            'day_Saturday',\n",
    "            'day_Sunday']\n",
    "\n",
    "labels = 'accident_yn'"
   ]
  },
  {
   "cell_type": "code",
   "execution_count": 5,
   "metadata": {},
   "outputs": [],
   "source": [
    "X = data[features]\n",
    "y = data[labels]"
   ]
  },
  {
   "cell_type": "code",
   "execution_count": 6,
   "metadata": {},
   "outputs": [],
   "source": [
    "X_train, X_test, y_train, y_test = train_test_split(X, y, test_size=0.4, random_state=42)"
   ]
  },
  {
   "cell_type": "code",
   "execution_count": 7,
   "metadata": {},
   "outputs": [
    {
     "name": "stdout",
     "output_type": "stream",
     "text": [
      "Random Forest (n=100)\n",
      "Accuracy: 0.8287672386212471\n",
      "Precision: 0.6810197633112869\n",
      "Recall: 0.5869120308509379\n",
      "road_length         0.423833\n",
      "temp                0.154762\n",
      "wind_speed          0.099991\n",
      "class_major         0.087232\n",
      "hour                0.080630\n",
      "class_local         0.071125\n",
      "precipitation       0.013509\n",
      "daylight_yn         0.012763\n",
      "class_freeway       0.010974\n",
      "class_unimproved    0.007695\n",
      "holiday_yn          0.006710\n",
      "rush_hour_yn        0.005353\n",
      "day_Monday          0.003701\n",
      "day_Wednesday       0.003630\n",
      "day_Tuesday         0.003605\n",
      "day_Sunday          0.003588\n",
      "day_Thursday        0.003578\n",
      "day_Friday          0.003343\n",
      "day_Saturday        0.003173\n",
      "class_other         0.000805\n",
      "dtype: float64\n"
     ]
    }
   ],
   "source": [
    "forest = RandomForestClassifier(n_estimators=100)\n",
    "\n",
    "forest.fit(X_train, y_train)\n",
    "\n",
    "y_pred = forest.predict(X_test)\n",
    "\n",
    "print('Random Forest (n=100)')\n",
    "\n",
    "print('Accuracy:', metrics.accuracy_score(y_test, y_pred))\n",
    "print('Precision:', metrics.precision_score(y_test, y_pred))\n",
    "print('Recall:', metrics.recall_score(y_test, y_pred))\n",
    "\n",
    "feature_importance = pd.Series(forest.feature_importances_, index=X.columns).sort_values(ascending=False)\n",
    "print(feature_importance)"
   ]
  },
  {
   "cell_type": "code",
   "execution_count": 10,
   "metadata": {},
   "outputs": [
    {
     "name": "stdout",
     "output_type": "stream",
     "text": [
      "Random Forest (n=0100)\n",
      "Accuracy: 0.8289608836950848\n",
      "Precision: 0.680050627981696\n",
      "Recall: 0.5907007425198315\n",
      "road_length         0.421045\n",
      "temp                0.155326\n",
      "wind_speed          0.099657\n",
      "class_major         0.090212\n",
      "hour                0.081451\n",
      "class_local         0.069730\n",
      "precipitation       0.013593\n",
      "daylight_yn         0.012632\n",
      "class_freeway       0.010737\n",
      "class_unimproved    0.008278\n",
      "holiday_yn          0.006628\n",
      "rush_hour_yn        0.005235\n",
      "day_Monday          0.003692\n",
      "day_Thursday        0.003615\n",
      "day_Sunday          0.003610\n",
      "day_Tuesday         0.003590\n",
      "day_Wednesday       0.003531\n",
      "day_Friday          0.003319\n",
      "day_Saturday        0.003096\n",
      "class_other         0.001022\n",
      "dtype: float64\n"
     ]
    }
   ],
   "source": [
    "forest_1k = RandomForestClassifier(n_estimators=1000)\n",
    "\n",
    "forest_1k.fit(X_train, y_train)\n",
    "\n",
    "y_pred_1k = forest_1k.predict(X_test)\n",
    "\n",
    "print('Random Forest (n=0100)')\n",
    "\n",
    "print('Accuracy:', metrics.accuracy_score(y_test, y_pred_1k))\n",
    "print('Precision:', metrics.precision_score(y_test, y_pred_1k))\n",
    "print('Recall:', metrics.recall_score(y_test, y_pred_1k))\n",
    "\n",
    "feature_importance = pd.Series(forest_1k.feature_importances_, index=X.columns).sort_values(ascending=False)\n",
    "print(feature_importance)"
   ]
  },
  {
   "cell_type": "markdown",
   "metadata": {},
   "source": [
    "**n=1,000 results**\n",
    "\n",
    "*Metrics*\n",
    "\n",
    "| Metric    | Value              |\n",
    "| --------- | ------------------ |\n",
    "| Accuracy  | 0.8289608836950848 |\n",
    "| Precision | 0.680050627981696  |\n",
    "| Recall    | 0.5907007425198315 |\n",
    "\n",
    "*Feature Importance*\n",
    "\n",
    "| Feature          | Relative Importance |\n",
    "| ---------------- | ------------------- |\n",
    "| road_length      | 0.421045            |\n",
    "| temp             | 0.155326            |\n",
    "| wind_speed       | 0.099657            |\n",
    "| class_major      | 0.090212            |\n",
    "| hour             | 0.081451            |\n",
    "| class_local      | 0.069730            |\n",
    "| precipitation    | 0.013593            |\n",
    "| daylight_yn      | 0.012632            |\n",
    "| class_freeway    | 0.010737            |\n",
    "| class_unimproved | 0.008278            |\n",
    "| holiday_yn       | 0.006628            |\n",
    "| rush_hour_yn     | 0.005235            |\n",
    "| day_Monday       | 0.003692            |\n",
    "| day_Thursday     | 0.003615            |\n",
    "| day_Sunday       | 0.003610            |\n",
    "| day_Tuesday      | 0.003590            |\n",
    "| day_Wednesday    | 0.003531            |\n",
    "| day_Friday       | 0.003319            |\n",
    "| day_Saturday     | 0.003096            |\n",
    "| class_other      | 0.001022            |"
   ]
  },
  {
   "cell_type": "code",
   "execution_count": 12,
   "metadata": {},
   "outputs": [],
   "source": [
    "important_features = ['hour',\n",
    "                      'daylight_yn',\n",
    "                      'temp',\n",
    "                      'wind_speed',\n",
    "                      'precipitation',\n",
    "                      'road_length',\n",
    "                      'class_freeway',\n",
    "                      'class_local',\n",
    "                      'class_major']"
   ]
  },
  {
   "cell_type": "code",
   "execution_count": 13,
   "metadata": {},
   "outputs": [],
   "source": [
    "X_important = data[important_features]"
   ]
  },
  {
   "cell_type": "code",
   "execution_count": 14,
   "metadata": {},
   "outputs": [],
   "source": [
    "X_train_imp, X_test_imp, y_train_imp, y_test_imp = train_test_split(X_important, y, test_size=0.4, random_state=42)"
   ]
  },
  {
   "cell_type": "code",
   "execution_count": 15,
   "metadata": {},
   "outputs": [
    {
     "name": "stdout",
     "output_type": "stream",
     "text": [
      "Random Forest (n=100)\n",
      "Accuracy: 0.8359952514860155\n",
      "Precision: 0.6983864620228256\n",
      "Recall: 0.6003078328230976\n",
      "road_length      0.460490\n",
      "temp             0.163775\n",
      "wind_speed       0.097254\n",
      "class_major      0.093245\n",
      "hour             0.081035\n",
      "class_local      0.067866\n",
      "precipitation    0.013984\n",
      "class_freeway    0.011831\n",
      "daylight_yn      0.010521\n",
      "dtype: float64\n"
     ]
    }
   ],
   "source": [
    "forest_imp = RandomForestClassifier(n_estimators=100)\n",
    "\n",
    "forest_imp.fit(X_train_imp, y_train_imp)\n",
    "\n",
    "y_pred_imp = forest_imp.predict(X_test_imp)\n",
    "\n",
    "print('Random Forest (n=100)')\n",
    "\n",
    "print('Accuracy:', metrics.accuracy_score(y_test_imp, y_pred_imp))\n",
    "print('Precision:', metrics.precision_score(y_test_imp, y_pred_imp))\n",
    "print('Recall:', metrics.recall_score(y_test_imp, y_pred_imp))\n",
    "\n",
    "feature_importance_imp = pd.Series(forest_imp.feature_importances_, index=X_important.columns).sort_values(ascending=False)\n",
    "print(feature_importance_imp)"
   ]
  },
  {
   "cell_type": "code",
   "execution_count": 16,
   "metadata": {},
   "outputs": [],
   "source": [
    "most_important_features = ['hour',\n",
    "                           'temp',\n",
    "                           'wind_speed',\n",
    "                           'road_length',\n",
    "                           'class_local',\n",
    "                           'class_major']"
   ]
  },
  {
   "cell_type": "code",
   "execution_count": 17,
   "metadata": {},
   "outputs": [],
   "source": [
    "X_most_important = data[most_important_features]"
   ]
  },
  {
   "cell_type": "code",
   "execution_count": 18,
   "metadata": {},
   "outputs": [],
   "source": [
    "X_train_most, X_test_most, y_train_most, y_test_most = train_test_split(X_most_important, y, test_size=0.4, random_state=42)"
   ]
  },
  {
   "cell_type": "code",
   "execution_count": 19,
   "metadata": {},
   "outputs": [
    {
     "name": "stdout",
     "output_type": "stream",
     "text": [
      "Random Forest (n=100)\n",
      "Accuracy: 0.833233704346069\n",
      "Precision: 0.6914576217956268\n",
      "Recall: 0.5958256516076654\n",
      "road_length    0.495734\n",
      "temp           0.163123\n",
      "hour           0.099266\n",
      "class_major    0.097829\n",
      "wind_speed     0.085692\n",
      "class_local    0.058355\n",
      "dtype: float64\n"
     ]
    }
   ],
   "source": [
    "forest_most = RandomForestClassifier(n_estimators=100)\n",
    "\n",
    "forest_most.fit(X_train_most, y_train_most)\n",
    "\n",
    "y_pred_most = forest_most.predict(X_test_most)\n",
    "\n",
    "print('Random Forest (n=100)')\n",
    "\n",
    "print('Accuracy:', metrics.accuracy_score(y_test_most, y_pred_most))\n",
    "print('Precision:', metrics.precision_score(y_test_most, y_pred_most))\n",
    "print('Recall:', metrics.recall_score(y_test_most, y_pred_most))\n",
    "\n",
    "feature_importance_most = pd.Series(forest_most.feature_importances_, index=X_most_important.columns).sort_values(ascending=False)\n",
    "print(feature_importance_most)"
   ]
  }
 ],
 "metadata": {
  "kernelspec": {
   "display_name": "Python 3",
   "language": "python",
   "name": "python3"
  },
  "language_info": {
   "codemirror_mode": {
    "name": "ipython",
    "version": 3
   },
   "file_extension": ".py",
   "mimetype": "text/x-python",
   "name": "python",
   "nbconvert_exporter": "python",
   "pygments_lexer": "ipython3",
   "version": "3.6.5"
  }
 },
 "nbformat": 4,
 "nbformat_minor": 2
}
