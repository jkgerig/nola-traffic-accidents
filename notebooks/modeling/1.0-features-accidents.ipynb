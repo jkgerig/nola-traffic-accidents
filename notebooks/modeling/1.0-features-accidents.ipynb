{
 "cells": [
  {
   "cell_type": "markdown",
   "metadata": {},
   "source": [
    "# Accidents"
   ]
  },
  {
   "cell_type": "code",
   "execution_count": 1,
   "metadata": {},
   "outputs": [],
   "source": [
    "# imports\n",
    "import numpy as np\n",
    "import pandas as pd\n",
    "import geopandas as gpd\n",
    "import matplotlib.pyplot as plt"
   ]
  },
  {
   "cell_type": "code",
   "execution_count": 2,
   "metadata": {},
   "outputs": [],
   "source": [
    "calls_2012 = pd.read_csv('../../data/raw/Calls_for_Service_2012.csv', usecols=[0,1,2,3,6,7,8,9,10,11,12,13,14,15])\n",
    "calls_2012['TimeCreate'] = pd.to_datetime(calls_2012['TimeCreate'], format='%m/%d/%Y %I:%M:%S %p')\n",
    "calls_2012['TimeDispatch'] = pd.to_datetime(calls_2012['TimeDispatch'], format='%m/%d/%Y %I:%M:%S %p')\n",
    "calls_2012['TimeArrive'] = pd.to_datetime(calls_2012['TimeArrive'], format='%m/%d/%Y %I:%M:%S %p')\n",
    "calls_2012['TimeClosed'] = pd.to_datetime(calls_2012['TimeClosed'], format='%m/%d/%Y %I:%M:%S %p')\n",
    "calls_2012.set_index('NOPD_Item', inplace=True)"
   ]
  },
  {
   "cell_type": "code",
   "execution_count": 3,
   "metadata": {},
   "outputs": [],
   "source": [
    "calls_2013 = pd.read_csv('../../data/raw/Calls_for_Service_2013.csv', usecols=[0,1,2,3,6,7,8,9,10,11,12,13,14,15])\n",
    "calls_2013['TimeCreate'] = pd.to_datetime(calls_2013['TimeCreate'], format='%m/%d/%Y %I:%M:%S %p')\n",
    "calls_2013['TimeDispatch'] = pd.to_datetime(calls_2013['TimeDispatch'], format='%m/%d/%Y %I:%M:%S %p')\n",
    "calls_2013['TimeArrive'] = pd.to_datetime(calls_2013['TimeArrive'], format='%m/%d/%Y %I:%M:%S %p')\n",
    "calls_2013['TimeClosed'] = pd.to_datetime(calls_2013['TimeClosed'], format='%m/%d/%Y %I:%M:%S %p')\n",
    "calls_2013.set_index('NOPD_Item', inplace=True)"
   ]
  },
  {
   "cell_type": "code",
   "execution_count": 4,
   "metadata": {},
   "outputs": [],
   "source": [
    "calls_2014 = pd.read_csv('../../data/raw/Calls_for_Service_2014.csv', usecols=[0,1,2,3,9,10,11,12,13,14,17,18,19,20])\n",
    "calls_2014['TimeCreate'] = pd.to_datetime(calls_2014['TimeCreate'], format='%m/%d/%Y %I:%M:%S %p')\n",
    "calls_2014['TimeDispatch'] = pd.to_datetime(calls_2014['TimeDispatch'], format='%m/%d/%Y %I:%M:%S %p')\n",
    "calls_2014['TimeArrive'] = pd.to_datetime(calls_2014['TimeArrive'], format='%m/%d/%Y %I:%M:%S %p')\n",
    "calls_2014['TimeClosed'] = pd.to_datetime(calls_2014['TimeClosed'], format='%m/%d/%Y %I:%M:%S %p')\n",
    "calls_2014.set_index('NOPD_Item', inplace=True)"
   ]
  },
  {
   "cell_type": "code",
   "execution_count": 5,
   "metadata": {},
   "outputs": [],
   "source": [
    "calls_2015 = pd.read_csv('../../data/raw/Calls_for_Service_2015.csv', usecols=[0,1,2,3,9,10,11,12,13,14,17,18,19,20])\n",
    "calls_2015['TimeCreate'] = pd.to_datetime(calls_2015['TimeCreate'], format='%m/%d/%Y %I:%M:%S %p')\n",
    "calls_2015['TimeDispatch'] = pd.to_datetime(calls_2015['TimeDispatch'], format='%m/%d/%Y %I:%M:%S %p')\n",
    "calls_2015['TimeArrive'] = pd.to_datetime(calls_2015['TimeArrive'], format='%m/%d/%Y %I:%M:%S %p')\n",
    "calls_2015['TimeClosed'] = pd.to_datetime(calls_2015['TimeClosed'], format='%m/%d/%Y %I:%M:%S %p')\n",
    "calls_2015.set_index('NOPD_Item', inplace=True)"
   ]
  },
  {
   "cell_type": "code",
   "execution_count": 6,
   "metadata": {},
   "outputs": [],
   "source": [
    "calls_2016 = pd.read_csv('../../data/raw/Calls_for_Service_2016.csv', usecols=[0,1,2,3,9,10,11,12,13,14,17,18,19,20])\n",
    "calls_2016['TimeCreate'] = pd.to_datetime(calls_2016['TimeCreate'], format='%m/%d/%Y %I:%M:%S %p')\n",
    "calls_2016['TimeDispatch'] = pd.to_datetime(calls_2016['TimeDispatch'], format='%m/%d/%Y %I:%M:%S %p')\n",
    "calls_2016['TimeArrive'] = pd.to_datetime(calls_2016['TimeArrive'], format='%m/%d/%Y %I:%M:%S %p')\n",
    "calls_2016['TimeClosed'] = pd.to_datetime(calls_2016['TimeClosed'], format='%m/%d/%Y %I:%M:%S %p')\n",
    "calls_2016.set_index('NOPD_Item', inplace=True)"
   ]
  },
  {
   "cell_type": "code",
   "execution_count": 7,
   "metadata": {},
   "outputs": [],
   "source": [
    "calls_2017 = pd.read_csv('../../data/raw/Calls_for_Service_2017.csv', usecols=[0,1,2,3,9,10,11,12,13,14,17,18,19,20])\n",
    "calls_2017['TimeCreate'] = pd.to_datetime(calls_2017['TimeCreate'], format='%m/%d/%Y %I:%M:%S %p')\n",
    "calls_2017['TimeDispatch'] = pd.to_datetime(calls_2017['TimeDispatch'], format='%m/%d/%Y %I:%M:%S %p')\n",
    "calls_2017['TimeArrive'] = pd.to_datetime(calls_2017['TimeArrive'], format='%m/%d/%Y %I:%M:%S %p')\n",
    "calls_2017['TimeClosed'] = pd.to_datetime(calls_2017['TimeClosed'], format='%m/%d/%Y %I:%M:%S %p')\n",
    "calls_2017.set_index('NOPD_Item', inplace=True)"
   ]
  },
  {
   "cell_type": "code",
   "execution_count": 8,
   "metadata": {},
   "outputs": [],
   "source": [
    "calls_2018 = pd.read_csv('../../data/raw/Calls_for_Service_2018.csv', usecols=[0,1,2,3,9,10,11,12,13,14,17,18,19,20])\n",
    "calls_2018['TimeCreate'] = pd.to_datetime(calls_2018['TimeCreate'], format='%m/%d/%Y %I:%M:%S %p')\n",
    "calls_2018['TimeDispatch'] = pd.to_datetime(calls_2018['TimeDispatch'], format='%m/%d/%Y %I:%M:%S %p')\n",
    "calls_2018['TimeArrive'] = pd.to_datetime(calls_2018['TimeArrive'], format='%m/%d/%Y %I:%M:%S %p')\n",
    "calls_2018['TimeClosed'] = pd.to_datetime(calls_2018['TimeClosed'], format='%m/%d/%Y %I:%M:%S %p')\n",
    "calls_2018.set_index('NOPD_Item', inplace=True)"
   ]
  },
  {
   "cell_type": "code",
   "execution_count": 16,
   "metadata": {},
   "outputs": [],
   "source": [
    "calls = pd.concat([calls_2012, calls_2013, calls_2014, calls_2015, calls_2016, calls_2017, calls_2018])"
   ]
  },
  {
   "cell_type": "code",
   "execution_count": 17,
   "metadata": {},
   "outputs": [],
   "source": [
    "target_types = [\n",
    "    '100',\n",
    "    '100C',\n",
    "    '100F',\n",
    "    '100I',\n",
    "    '100X',\n",
    "    '20',\n",
    "    '20C',\n",
    "    '20F',\n",
    "    '20I',\n",
    "    '20X',]"
   ]
  },
  {
   "cell_type": "code",
   "execution_count": 18,
   "metadata": {},
   "outputs": [],
   "source": [
    "target_dispositions = ['NAT', 'RTF', 'GOA']"
   ]
  },
  {
   "cell_type": "code",
   "execution_count": 19,
   "metadata": {},
   "outputs": [],
   "source": [
    "target_columns = ['TimeCreate', 'Location']"
   ]
  },
  {
   "cell_type": "code",
   "execution_count": 20,
   "metadata": {},
   "outputs": [],
   "source": [
    "accidents = calls[calls['Type_'].isin(target_types)]"
   ]
  },
  {
   "cell_type": "code",
   "execution_count": 21,
   "metadata": {},
   "outputs": [],
   "source": [
    "accidents = accidents[accidents['Disposition'].isin(target_dispositions)]"
   ]
  },
  {
   "cell_type": "code",
   "execution_count": 22,
   "metadata": {},
   "outputs": [],
   "source": [
    "accidents = accidents[target_columns]"
   ]
  },
  {
   "cell_type": "code",
   "execution_count": 25,
   "metadata": {},
   "outputs": [],
   "source": [
    "locations = accidents.Location.str.replace('[()]', '')"
   ]
  },
  {
   "cell_type": "code",
   "execution_count": 27,
   "metadata": {},
   "outputs": [],
   "source": [
    "locations = locations.str.split(',')"
   ]
  },
  {
   "cell_type": "code",
   "execution_count": 31,
   "metadata": {},
   "outputs": [],
   "source": [
    "lat = locations.str.get(0).astype('float')\n",
    "lon = locations.str.get(1).astype('float')"
   ]
  },
  {
   "cell_type": "code",
   "execution_count": 36,
   "metadata": {},
   "outputs": [],
   "source": [
    "accidents['lat'] = lat\n",
    "accidents['lon'] = lon"
   ]
  },
  {
   "cell_type": "code",
   "execution_count": 39,
   "metadata": {},
   "outputs": [],
   "source": [
    "accidents.drop(columns='Location', inplace=True)"
   ]
  },
  {
   "cell_type": "code",
   "execution_count": 43,
   "metadata": {},
   "outputs": [],
   "source": [
    "accidents = accidents[accidents.lat > 1]"
   ]
  },
  {
   "cell_type": "code",
   "execution_count": 48,
   "metadata": {},
   "outputs": [],
   "source": [
    "accidents.to_pickle('../../data/interim/features/accidents.pickle')"
   ]
  }
 ],
 "metadata": {
  "kernelspec": {
   "display_name": "Python 3",
   "language": "python",
   "name": "python3"
  },
  "language_info": {
   "codemirror_mode": {
    "name": "ipython",
    "version": 3
   },
   "file_extension": ".py",
   "mimetype": "text/x-python",
   "name": "python",
   "nbconvert_exporter": "python",
   "pygments_lexer": "ipython3",
   "version": "3.6.5"
  }
 },
 "nbformat": 4,
 "nbformat_minor": 2
}
