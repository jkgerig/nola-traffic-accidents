{
 "cells": [
  {
   "cell_type": "markdown",
   "metadata": {},
   "source": [
    "# Accidents"
   ]
  },
  {
   "cell_type": "code",
   "execution_count": 1,
   "metadata": {},
   "outputs": [],
   "source": [
    "# imports\n",
    "import numpy as np\n",
    "import pandas as pd"
   ]
  },
  {
   "cell_type": "code",
   "execution_count": 2,
   "metadata": {},
   "outputs": [],
   "source": [
    "calls_2012 = pd.read_csv('../../data/raw/Calls_for_Service_2012.csv', usecols=[0,1,6,10,12,15])\n",
    "calls_2012['TimeCreate'] = pd.to_datetime(calls_2012['TimeCreate'], format='%m/%d/%Y %I:%M:%S %p')\n",
    "calls_2012.set_index('NOPD_Item', inplace=True)\n",
    "\n",
    "calls_2013 = pd.read_csv('../../data/raw/Calls_for_Service_2013.csv', usecols=[0,1,6,10,12,15])\n",
    "calls_2013['TimeCreate'] = pd.to_datetime(calls_2013['TimeCreate'], format='%m/%d/%Y %I:%M:%S %p')\n",
    "calls_2013.set_index('NOPD_Item', inplace=True)\n",
    "\n",
    "calls_2014 = pd.read_csv('../../data/raw/Calls_for_Service_2014.csv', usecols=[0,1,9,13,17,20])\n",
    "calls_2014['TimeCreate'] = pd.to_datetime(calls_2014['TimeCreate'], format='%m/%d/%Y %I:%M:%S %p')\n",
    "calls_2014.set_index('NOPD_Item', inplace=True)\n",
    "\n",
    "calls_2015 = pd.read_csv('../../data/raw/Calls_for_Service_2015.csv', usecols=[0,1,9,13,17,20])\n",
    "calls_2015['TimeCreate'] = pd.to_datetime(calls_2015['TimeCreate'], format='%m/%d/%Y %I:%M:%S %p')\n",
    "calls_2015.set_index('NOPD_Item', inplace=True)\n",
    "\n",
    "calls_2016 = pd.read_csv('../../data/raw/Calls_for_Service_2016.csv', usecols=[0,1,9,13,17,20])\n",
    "calls_2016['TimeCreate'] = pd.to_datetime(calls_2016['TimeCreate'], format='%m/%d/%Y %I:%M:%S %p')\n",
    "calls_2016.set_index('NOPD_Item', inplace=True)\n",
    "\n",
    "calls_2017 = pd.read_csv('../../data/raw/Calls_for_Service_2017.csv', usecols=[0,1,9,13,17,20])\n",
    "calls_2017['TimeCreate'] = pd.to_datetime(calls_2017['TimeCreate'], format='%m/%d/%Y %I:%M:%S %p')\n",
    "calls_2017.set_index('NOPD_Item', inplace=True)\n",
    "\n",
    "calls_2018 = pd.read_csv('../../data/raw/Calls_for_Service_2018.csv', usecols=[0,1,9,13,17,20])\n",
    "calls_2018['TimeCreate'] = pd.to_datetime(calls_2018['TimeCreate'], format='%m/%d/%Y %I:%M:%S %p')\n",
    "calls_2018.set_index('NOPD_Item', inplace=True)\n",
    "\n",
    "calls = pd.concat([calls_2012, calls_2013, calls_2014, calls_2015, calls_2016, calls_2017, calls_2018])"
   ]
  },
  {
   "cell_type": "code",
   "execution_count": 3,
   "metadata": {},
   "outputs": [],
   "source": [
    "target_types = [\n",
    "    '100',\n",
    "    '100C',\n",
    "    '100F',\n",
    "    '100I',\n",
    "    '100X',\n",
    "    '20',\n",
    "    '20C',\n",
    "    '20F',\n",
    "    '20I',\n",
    "    '20X']\n",
    "\n",
    "target_dispositions = ['NAT', 'RTF', 'GOA']\n",
    "target_columns = ['TimeCreate', 'Location', 'BLOCK_ADDRESS']"
   ]
  },
  {
   "cell_type": "code",
   "execution_count": 4,
   "metadata": {},
   "outputs": [],
   "source": [
    "accidents = calls[calls['Type_'].isin(target_types)]\n",
    "accidents = accidents[accidents['Disposition'].isin(target_dispositions)]\n",
    "accidents = accidents[target_columns]\n",
    "accidents.drop_duplicates(inplace=True)"
   ]
  },
  {
   "cell_type": "code",
   "execution_count": 5,
   "metadata": {},
   "outputs": [],
   "source": [
    "locations = accidents.Location.str.replace('[()]', '')\n",
    "locations = locations.str.split(',')"
   ]
  },
  {
   "cell_type": "code",
   "execution_count": 6,
   "metadata": {},
   "outputs": [],
   "source": [
    "lat = locations.str.get(0).astype('float')\n",
    "lon = locations.str.get(1).astype('float')\n",
    "accidents['lat'] = lat\n",
    "accidents['lon'] = lon\n",
    "accidents.drop(columns='Location', inplace=True)\n",
    "accidents = accidents[accidents.lat > 1]"
   ]
  },
  {
   "cell_type": "code",
   "execution_count": 7,
   "metadata": {},
   "outputs": [],
   "source": [
    "intersections = accidents[accidents.BLOCK_ADDRESS.str.contains('&', na=False)].BLOCK_ADDRESS.str.split('&')\n",
    "intersection_street_1 = intersections.str.get(0).str.strip()\n",
    "intersection_street_2 = intersections.str.get(1).str.strip()"
   ]
  },
  {
   "cell_type": "code",
   "execution_count": 8,
   "metadata": {},
   "outputs": [],
   "source": [
    "single_street = accidents[np.logical_not(accidents.BLOCK_ADDRESS.str.contains('&', na=True))].BLOCK_ADDRESS\n",
    "single_street_1 = single_street[single_street.str.split(' ', n=1).str.get(0).str.contains('X', na=False)].str.split(' ', n=1).str.get(1).str.strip()\n",
    "single_street_2 = single_street[np.logical_not(single_street.str.split(' ', n=1).str.get(0).str.contains('X', na=True))].str.strip()"
   ]
  },
  {
   "cell_type": "code",
   "execution_count": 9,
   "metadata": {},
   "outputs": [],
   "source": [
    "street_1 = pd.concat([intersection_street_1, single_street_1, single_street_2])"
   ]
  },
  {
   "cell_type": "code",
   "execution_count": 10,
   "metadata": {},
   "outputs": [],
   "source": [
    "accidents['street_1'] = street_1\n",
    "accidents['street_2'] = intersection_street_2"
   ]
  },
  {
   "cell_type": "code",
   "execution_count": 11,
   "metadata": {},
   "outputs": [],
   "source": [
    "accidents.to_pickle('../../data/interim/features/accidents.pickle')"
   ]
  }
 ],
 "metadata": {
  "kernelspec": {
   "display_name": "Python 3",
   "language": "python",
   "name": "python3"
  },
  "language_info": {
   "codemirror_mode": {
    "name": "ipython",
    "version": 3
   },
   "file_extension": ".py",
   "mimetype": "text/x-python",
   "name": "python",
   "nbconvert_exporter": "python",
   "pygments_lexer": "ipython3",
   "version": "3.6.5"
  }
 },
 "nbformat": 4,
 "nbformat_minor": 2
}
