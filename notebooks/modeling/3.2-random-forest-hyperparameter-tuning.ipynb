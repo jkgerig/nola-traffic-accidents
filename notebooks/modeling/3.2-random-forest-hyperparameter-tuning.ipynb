{
 "cells": [
  {
   "cell_type": "code",
   "execution_count": 1,
   "metadata": {},
   "outputs": [],
   "source": [
    "import numpy as np\n",
    "import pandas as pd\n",
    "from sklearn.model_selection import train_test_split, RandomizedSearchCV\n",
    "from sklearn.ensemble import RandomForestClassifier\n",
    "from sklearn import metrics\n",
    "import matplotlib.pyplot as plt\n",
    "from pprint import pprint"
   ]
  },
  {
   "cell_type": "code",
   "execution_count": 2,
   "metadata": {},
   "outputs": [],
   "source": [
    "data = pd.read_pickle('../../data/processed/all_samples.pickle')\n",
    "data['datetime'] = pd.to_datetime(data.date)\n",
    "data['day'] = data.datetime.dt.weekday_name\n",
    "data = pd.get_dummies(data, prefix='day', columns=['day'])"
   ]
  },
  {
   "cell_type": "code",
   "execution_count": 3,
   "metadata": {},
   "outputs": [],
   "source": [
    "features = ['hour',\n",
    "            'daylight_yn',\n",
    "            'holiday_yn',\n",
    "            'rush_hour_yn',\n",
    "            'temp',\n",
    "            'wind_speed',\n",
    "            'precipitation',\n",
    "            'road_length',\n",
    "            'class_freeway',\n",
    "            'class_local',\n",
    "            'class_major',\n",
    "            'class_other',\n",
    "            'class_unimproved',\n",
    "            'day_Monday',\n",
    "            'day_Tuesday',\n",
    "            'day_Wednesday',\n",
    "            'day_Thursday',\n",
    "            'day_Friday',\n",
    "            'day_Saturday',\n",
    "            'day_Sunday']\n",
    "\n",
    "labels = 'accident_yn'"
   ]
  },
  {
   "cell_type": "code",
   "execution_count": 4,
   "metadata": {},
   "outputs": [],
   "source": [
    "X = data[features]\n",
    "y = data[labels]"
   ]
  },
  {
   "cell_type": "code",
   "execution_count": 5,
   "metadata": {},
   "outputs": [],
   "source": [
    "X_train, X_test, y_train, y_test = train_test_split(X, y, test_size=0.4, random_state=42)"
   ]
  },
  {
   "cell_type": "code",
   "execution_count": 6,
   "metadata": {},
   "outputs": [
    {
     "name": "stdout",
     "output_type": "stream",
     "text": [
      "Random Forest (n=100)\n",
      "Accuracy: 0.828506238739118\n",
      "Precision: 0.6807163780053866\n",
      "Recall: 0.5856604028888927\n",
      "road_length         0.425048\n",
      "temp                0.156232\n",
      "wind_speed          0.098980\n",
      "class_major         0.094446\n",
      "hour                0.082337\n",
      "class_local         0.061327\n",
      "precipitation       0.013708\n",
      "daylight_yn         0.011967\n",
      "class_freeway       0.010668\n",
      "class_unimproved    0.007682\n",
      "holiday_yn          0.006807\n",
      "rush_hour_yn        0.004958\n",
      "day_Sunday          0.003734\n",
      "day_Monday          0.003699\n",
      "day_Tuesday         0.003684\n",
      "day_Wednesday       0.003595\n",
      "day_Thursday        0.003592\n",
      "day_Friday          0.003348\n",
      "day_Saturday        0.003213\n",
      "class_other         0.000974\n",
      "dtype: float64\n"
     ]
    }
   ],
   "source": [
    "forest = RandomForestClassifier(n_estimators=100, random_state=42)\n",
    "\n",
    "forest.fit(X_train, y_train)\n",
    "\n",
    "y_pred = forest.predict(X_test)\n",
    "\n",
    "print('Random Forest (n=100)')\n",
    "\n",
    "print('Accuracy:', metrics.accuracy_score(y_test, y_pred))\n",
    "print('Precision:', metrics.precision_score(y_test, y_pred))\n",
    "print('Recall:', metrics.recall_score(y_test, y_pred))\n",
    "\n",
    "feature_importance = pd.Series(forest.feature_importances_, index=X.columns).sort_values(ascending=False)\n",
    "print(feature_importance)"
   ]
  },
  {
   "cell_type": "code",
   "execution_count": 7,
   "metadata": {},
   "outputs": [
    {
     "name": "stdout",
     "output_type": "stream",
     "text": [
      "{'bootstrap': True,\n",
      " 'class_weight': None,\n",
      " 'criterion': 'gini',\n",
      " 'max_depth': None,\n",
      " 'max_features': 'auto',\n",
      " 'max_leaf_nodes': None,\n",
      " 'min_impurity_decrease': 0.0,\n",
      " 'min_impurity_split': None,\n",
      " 'min_samples_leaf': 1,\n",
      " 'min_samples_split': 2,\n",
      " 'min_weight_fraction_leaf': 0.0,\n",
      " 'n_estimators': 100,\n",
      " 'n_jobs': 1,\n",
      " 'oob_score': False,\n",
      " 'random_state': 42,\n",
      " 'verbose': 0,\n",
      " 'warm_start': False}\n"
     ]
    }
   ],
   "source": [
    "# Current Parameters\n",
    "pprint(forest.get_params())"
   ]
  },
  {
   "cell_type": "code",
   "execution_count": 13,
   "metadata": {},
   "outputs": [
    {
     "name": "stdout",
     "output_type": "stream",
     "text": [
      "{'bootstrap': [True, False],\n",
      " 'max_depth': [10, 32, 55, 77, 100, None],\n",
      " 'max_features': ['auto', 'sqrt'],\n",
      " 'min_samples_leaf': [1, 2, 4],\n",
      " 'min_samples_split': [2, 5, 10],\n",
      " 'n_estimators': [50, 75, 100, 125, 150]}\n"
     ]
    }
   ],
   "source": [
    "# Random Search\n",
    "\n",
    "# Number of trees in random forest\n",
    "n_estimators = [int(x) for x in np.linspace(start=50, stop=150, num=5)]\n",
    "\n",
    "# Number of features to consider at each split\n",
    "max_features = ['auto', 'sqrt']\n",
    "\n",
    "# Maximum number of levels in tree\n",
    "max_depth = [int(x) for x in np.linspace(start=10, stop=100, num=5)]\n",
    "max_depth.append(None)\n",
    "\n",
    "# Minimum number of samples required to split a node\n",
    "min_samples_split = [2, 5, 10]\n",
    "\n",
    "# Minimum number of samples required at each leaf node\n",
    "min_samples_leaf = [1, 2, 4]\n",
    "\n",
    "# Method of selecting samples for training each tree\n",
    "bootstrap = [True, False]\n",
    "\n",
    "random_grid = {'n_estimators': n_estimators,\n",
    "               'max_features': max_features,\n",
    "               'max_depth': max_depth,\n",
    "               'min_samples_split': min_samples_split,\n",
    "               'min_samples_leaf': min_samples_leaf,\n",
    "               'bootstrap': bootstrap}\n",
    "\n",
    "pprint(random_grid)"
   ]
  },
  {
   "cell_type": "code",
   "execution_count": 14,
   "metadata": {},
   "outputs": [],
   "source": [
    "RandomizedSearchCV?"
   ]
  },
  {
   "cell_type": "code",
   "execution_count": 15,
   "metadata": {},
   "outputs": [
    {
     "name": "stdout",
     "output_type": "stream",
     "text": [
      "Fitting 3 folds for each of 20 candidates, totalling 60 fits\n"
     ]
    },
    {
     "name": "stderr",
     "output_type": "stream",
     "text": [
      "[Parallel(n_jobs=-1)]: Done  33 tasks      | elapsed: 14.0min\n",
      "[Parallel(n_jobs=-1)]: Done  60 out of  60 | elapsed: 26.3min finished\n"
     ]
    },
    {
     "data": {
      "text/plain": [
       "RandomizedSearchCV(cv=3, error_score='raise',\n",
       "          estimator=RandomForestClassifier(bootstrap=True, class_weight=None, criterion='gini',\n",
       "            max_depth=None, max_features='auto', max_leaf_nodes=None,\n",
       "            min_impurity_decrease=0.0, min_impurity_split=None,\n",
       "            min_samples_leaf=1, min_samples_split=2,\n",
       "            min_weight_fraction_leaf=0.0, n_estimators=10, n_jobs=1,\n",
       "            oob_score=False, random_state=None, verbose=0,\n",
       "            warm_start=False),\n",
       "          fit_params=None, iid=True, n_iter=20, n_jobs=-1,\n",
       "          param_distributions={'n_estimators': [50, 75, 100, 125, 150], 'max_features': ['auto', 'sqrt'], 'max_depth': [10, 32, 55, 77, 100, None], 'min_samples_split': [2, 5, 10], 'min_samples_leaf': [1, 2, 4], 'bootstrap': [True, False]},\n",
       "          pre_dispatch='2*n_jobs', random_state=42, refit=True,\n",
       "          return_train_score='warn', scoring=None, verbose=2)"
      ]
     },
     "execution_count": 15,
     "metadata": {},
     "output_type": "execute_result"
    }
   ],
   "source": [
    "rf = RandomForestClassifier()\n",
    "\n",
    "rf_random = RandomizedSearchCV(estimator = rf,\n",
    "                               param_distributions = random_grid,\n",
    "                               n_iter=20,\n",
    "                               n_jobs=-1,\n",
    "                               cv=3,\n",
    "                               verbose=2,\n",
    "                               random_state=42)\n",
    "\n",
    "rf_random.fit(X_train, y_train)"
   ]
  },
  {
   "cell_type": "code",
   "execution_count": 16,
   "metadata": {},
   "outputs": [
    {
     "name": "stdout",
     "output_type": "stream",
     "text": [
      "{'bootstrap': True,\n",
      " 'max_depth': 100,\n",
      " 'max_features': 'sqrt',\n",
      " 'min_samples_leaf': 4,\n",
      " 'min_samples_split': 10,\n",
      " 'n_estimators': 125}\n"
     ]
    }
   ],
   "source": [
    "pprint(rf_random.best_params_)"
   ]
  },
  {
   "cell_type": "code",
   "execution_count": 17,
   "metadata": {},
   "outputs": [],
   "source": [
    "def evaluate(model, test_features, test_labels):\n",
    "    predictions = model.predict(test_features)\n",
    "    accuracy = 100 * metrics.accuracy_score(test_labels, predictions)\n",
    "    precision = 100 * metrics.precision_score(test_labels, predictions)\n",
    "    recall = 100 * metrics.recall_score(test_labels, predictions)\n",
    "\n",
    "    print('Model Performance')\n",
    "    print('Accuracy:\\t{:0.2f}%.'.format(accuracy))\n",
    "    print('Precision:\\t{:0.2f}%.'.format(precision))\n",
    "    print('Recall:\\t{:0.2f}%.'.format(recall))\n",
    "\n",
    "    return (accuracy, precision, recall)\n"
   ]
  },
  {
   "cell_type": "code",
   "execution_count": 18,
   "metadata": {},
   "outputs": [
    {
     "name": "stdout",
     "output_type": "stream",
     "text": [
      "Model Performance\n",
      "Accuracy:\t82.85%.\n",
      "Precision:\t68.07%.\n",
      "Recall:\t58.57%.\n"
     ]
    }
   ],
   "source": [
    "base_model = RandomForestClassifier(n_estimators=100, random_state=42)\n",
    "base_model.fit(X_train, y_train)\n",
    "base_performance = evaluate(base_model, X_test, y_test)"
   ]
  },
  {
   "cell_type": "code",
   "execution_count": 19,
   "metadata": {},
   "outputs": [
    {
     "name": "stdout",
     "output_type": "stream",
     "text": [
      "Model Performance\n",
      "Accuracy:\t84.23%.\n",
      "Precision:\t72.33%.\n",
      "Recall:\t59.33%.\n"
     ]
    }
   ],
   "source": [
    "best_random = rf_random.best_estimator_\n",
    "random_performance = evaluate(best_random, X_test, y_test)"
   ]
  },
  {
   "cell_type": "code",
   "execution_count": 20,
   "metadata": {},
   "outputs": [
    {
     "name": "stdout",
     "output_type": "stream",
     "text": [
      "Accuracy Improvement:\t1.66%.\n",
      "Precision Improvement:\t6.26%.\n",
      "Recall Improvement:\t1.30%.\n"
     ]
    }
   ],
   "source": [
    "improvement_accuracy = 100 * (random_performance[0] - base_performance[0]) / base_performance[0]\n",
    "improvement_precision = 100 * (random_performance[1] - base_performance[1]) / base_performance[1]\n",
    "improvement_recall = 100 * (random_performance[2] - base_performance[2]) / base_performance[2]\n",
    "\n",
    "print('Accuracy Improvement:\\t{:0.2f}%.'.format(improvement_accuracy))\n",
    "print('Precision Improvement:\\t{:0.2f}%.'.format(improvement_precision))\n",
    "print('Recall Improvement:\\t{:0.2f}%.'.format(improvement_recall))"
   ]
  },
  {
   "cell_type": "code",
   "execution_count": 21,
   "metadata": {},
   "outputs": [
    {
     "name": "stdout",
     "output_type": "stream",
     "text": [
      "road_length         0.402501\n",
      "class_major         0.153864\n",
      "class_local         0.125439\n",
      "temp                0.083956\n",
      "hour                0.077053\n",
      "wind_speed          0.057979\n",
      "daylight_yn         0.022670\n",
      "class_unimproved    0.015779\n",
      "class_freeway       0.015053\n",
      "precipitation       0.008216\n",
      "rush_hour_yn        0.006984\n",
      "day_Sunday          0.004691\n",
      "holiday_yn          0.004369\n",
      "day_Saturday        0.003611\n",
      "day_Tuesday         0.003165\n",
      "day_Monday          0.003143\n",
      "day_Wednesday       0.003131\n",
      "day_Thursday        0.003121\n",
      "day_Friday          0.003031\n",
      "class_other         0.002244\n",
      "dtype: float64\n"
     ]
    }
   ],
   "source": [
    "feature_importance_best = pd.Series(best_random.feature_importances_, index=X.columns).sort_values(ascending=False)\n",
    "print(feature_importance_best)"
   ]
  }
 ],
 "metadata": {
  "kernelspec": {
   "display_name": "Python 3",
   "language": "python",
   "name": "python3"
  },
  "language_info": {
   "codemirror_mode": {
    "name": "ipython",
    "version": 3
   },
   "file_extension": ".py",
   "mimetype": "text/x-python",
   "name": "python",
   "nbconvert_exporter": "python",
   "pygments_lexer": "ipython3",
   "version": "3.6.5"
  }
 },
 "nbformat": 4,
 "nbformat_minor": 2
}
