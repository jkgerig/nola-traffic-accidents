{
 "cells": [
  {
   "cell_type": "code",
   "execution_count": 1,
   "metadata": {},
   "outputs": [],
   "source": [
    "import numpy as np\n",
    "import pandas as pd\n",
    "from sklearn.model_selection import train_test_split, RandomizedSearchCV\n",
    "from sklearn.ensemble import RandomForestClassifier\n",
    "from sklearn import metrics\n",
    "import matplotlib.pyplot as plt\n",
    "import seaborn as sns\n",
    "from pprint import pprint"
   ]
  },
  {
   "cell_type": "code",
   "execution_count": 2,
   "metadata": {},
   "outputs": [],
   "source": [
    "data = pd.read_pickle('../../data/processed/all_samples.pickle')\n",
    "data['datetime'] = pd.to_datetime(data.date)\n",
    "data['day'] = data.datetime.dt.weekday_name\n",
    "data = pd.get_dummies(data, prefix='day', columns=['day'])"
   ]
  },
  {
   "cell_type": "code",
   "execution_count": 3,
   "metadata": {},
   "outputs": [],
   "source": [
    "features = ['hour',\n",
    "            'daylight_yn',\n",
    "            'holiday_yn',\n",
    "            'rush_hour_yn',\n",
    "            'temp',\n",
    "            'wind_speed',\n",
    "            'precipitation',\n",
    "            'road_length',\n",
    "            'class_freeway',\n",
    "            'class_local',\n",
    "            'class_major',\n",
    "            'class_other',\n",
    "            'class_unimproved',\n",
    "            'day_Monday',\n",
    "            'day_Tuesday',\n",
    "            'day_Wednesday',\n",
    "            'day_Thursday',\n",
    "            'day_Friday',\n",
    "            'day_Saturday',\n",
    "            'day_Sunday']\n",
    "\n",
    "labels = 'accident_yn'"
   ]
  },
  {
   "cell_type": "code",
   "execution_count": 4,
   "metadata": {},
   "outputs": [],
   "source": [
    "X = data[features]\n",
    "y = data[labels]"
   ]
  },
  {
   "cell_type": "code",
   "execution_count": 5,
   "metadata": {},
   "outputs": [],
   "source": [
    "X_train, X_test, y_train, y_test = train_test_split(X, y, test_size=0.4, random_state=42)"
   ]
  },
  {
   "cell_type": "code",
   "execution_count": 6,
   "metadata": {},
   "outputs": [
    {
     "name": "stdout",
     "output_type": "stream",
     "text": [
      "Random Forest (n=100)\n",
      "Accuracy: 0.828506238739118\n",
      "Precision: 0.6807163780053866\n",
      "Recall: 0.5856604028888927\n",
      "road_length         0.425048\n",
      "temp                0.156232\n",
      "wind_speed          0.098980\n",
      "class_major         0.094446\n",
      "hour                0.082337\n",
      "class_local         0.061327\n",
      "precipitation       0.013708\n",
      "daylight_yn         0.011967\n",
      "class_freeway       0.010668\n",
      "class_unimproved    0.007682\n",
      "holiday_yn          0.006807\n",
      "rush_hour_yn        0.004958\n",
      "day_Sunday          0.003734\n",
      "day_Monday          0.003699\n",
      "day_Tuesday         0.003684\n",
      "day_Wednesday       0.003595\n",
      "day_Thursday        0.003592\n",
      "day_Friday          0.003348\n",
      "day_Saturday        0.003213\n",
      "class_other         0.000974\n",
      "dtype: float64\n"
     ]
    }
   ],
   "source": [
    "forest = RandomForestClassifier(n_estimators=100, random_state=42)\n",
    "\n",
    "forest.fit(X_train, y_train)\n",
    "\n",
    "y_pred = forest.predict(X_test)\n",
    "\n",
    "print('Random Forest (n=100)')\n",
    "\n",
    "print('Accuracy:', metrics.accuracy_score(y_test, y_pred))\n",
    "print('Precision:', metrics.precision_score(y_test, y_pred))\n",
    "print('Recall:', metrics.recall_score(y_test, y_pred))\n",
    "\n",
    "feature_importance = pd.Series(forest.feature_importances_, index=X.columns).sort_values(ascending=False)\n",
    "print(feature_importance)"
   ]
  },
  {
   "cell_type": "code",
   "execution_count": 7,
   "metadata": {},
   "outputs": [
    {
     "name": "stdout",
     "output_type": "stream",
     "text": [
      "{'bootstrap': True,\n",
      " 'class_weight': None,\n",
      " 'criterion': 'gini',\n",
      " 'max_depth': None,\n",
      " 'max_features': 'auto',\n",
      " 'max_leaf_nodes': None,\n",
      " 'min_impurity_decrease': 0.0,\n",
      " 'min_impurity_split': None,\n",
      " 'min_samples_leaf': 1,\n",
      " 'min_samples_split': 2,\n",
      " 'min_weight_fraction_leaf': 0.0,\n",
      " 'n_estimators': 100,\n",
      " 'n_jobs': 1,\n",
      " 'oob_score': False,\n",
      " 'random_state': 42,\n",
      " 'verbose': 0,\n",
      " 'warm_start': False}\n"
     ]
    }
   ],
   "source": [
    "# Current Parameters\n",
    "pprint(forest.get_params())"
   ]
  },
  {
   "cell_type": "code",
   "execution_count": 8,
   "metadata": {},
   "outputs": [
    {
     "name": "stdout",
     "output_type": "stream",
     "text": [
      "{'bootstrap': [True, False],\n",
      " 'max_depth': [10, 32, 55, 77, 100, None],\n",
      " 'max_features': ['auto', 'sqrt'],\n",
      " 'min_samples_leaf': [1, 2, 4],\n",
      " 'min_samples_split': [2, 5, 10],\n",
      " 'n_estimators': [50, 75, 100, 125, 150]}\n"
     ]
    }
   ],
   "source": [
    "# Random Search\n",
    "\n",
    "# Number of trees in random forest\n",
    "n_estimators = [int(x) for x in np.linspace(start=50, stop=150, num=5)]\n",
    "\n",
    "# Number of features to consider at each split\n",
    "max_features = ['auto', 'sqrt']\n",
    "\n",
    "# Maximum number of levels in tree\n",
    "max_depth = [int(x) for x in np.linspace(start=10, stop=100, num=5)]\n",
    "max_depth.append(None)\n",
    "\n",
    "# Minimum number of samples required to split a node\n",
    "min_samples_split = [2, 5, 10]\n",
    "\n",
    "# Minimum number of samples required at each leaf node\n",
    "min_samples_leaf = [1, 2, 4]\n",
    "\n",
    "# Method of selecting samples for training each tree\n",
    "bootstrap = [True, False]\n",
    "\n",
    "random_grid = {'n_estimators': n_estimators,\n",
    "               'max_features': max_features,\n",
    "               'max_depth': max_depth,\n",
    "               'min_samples_split': min_samples_split,\n",
    "               'min_samples_leaf': min_samples_leaf,\n",
    "               'bootstrap': bootstrap}\n",
    "\n",
    "pprint(random_grid)"
   ]
  },
  {
   "cell_type": "code",
   "execution_count": 9,
   "metadata": {},
   "outputs": [
    {
     "name": "stdout",
     "output_type": "stream",
     "text": [
      "Fitting 3 folds for each of 20 candidates, totalling 60 fits\n"
     ]
    },
    {
     "name": "stderr",
     "output_type": "stream",
     "text": [
      "[Parallel(n_jobs=-1)]: Done  33 tasks      | elapsed: 16.0min\n",
      "[Parallel(n_jobs=-1)]: Done  60 out of  60 | elapsed: 29.7min finished\n"
     ]
    },
    {
     "data": {
      "text/plain": [
       "RandomizedSearchCV(cv=3, error_score='raise',\n",
       "          estimator=RandomForestClassifier(bootstrap=True, class_weight=None, criterion='gini',\n",
       "            max_depth=None, max_features='auto', max_leaf_nodes=None,\n",
       "            min_impurity_decrease=0.0, min_impurity_split=None,\n",
       "            min_samples_leaf=1, min_samples_split=2,\n",
       "            min_weight_fraction_leaf=0.0, n_estimators=10, n_jobs=1,\n",
       "            oob_score=False, random_state=None, verbose=0,\n",
       "            warm_start=False),\n",
       "          fit_params=None, iid=True, n_iter=20, n_jobs=-1,\n",
       "          param_distributions={'n_estimators': [50, 75, 100, 125, 150], 'max_features': ['auto', 'sqrt'], 'max_depth': [10, 32, 55, 77, 100, None], 'min_samples_split': [2, 5, 10], 'min_samples_leaf': [1, 2, 4], 'bootstrap': [True, False]},\n",
       "          pre_dispatch='2*n_jobs', random_state=42, refit=True,\n",
       "          return_train_score='warn', scoring=None, verbose=2)"
      ]
     },
     "execution_count": 9,
     "metadata": {},
     "output_type": "execute_result"
    }
   ],
   "source": [
    "rf = RandomForestClassifier()\n",
    "\n",
    "rf_random = RandomizedSearchCV(estimator = rf,\n",
    "                               param_distributions = random_grid,\n",
    "                               n_iter=20,\n",
    "                               n_jobs=-1,\n",
    "                               cv=3,\n",
    "                               verbose=2,\n",
    "                               random_state=42)\n",
    "\n",
    "rf_random.fit(X_train, y_train)"
   ]
  },
  {
   "cell_type": "code",
   "execution_count": 10,
   "metadata": {},
   "outputs": [],
   "source": [
    "# save results of 30 min worth of processing...\n",
    "import pickle\n",
    "f = open('../../data/processed/rf_random.pickle', 'wb')\n",
    "pickle.dump(rf_random, f)\n",
    "f.close()"
   ]
  },
  {
   "cell_type": "code",
   "execution_count": 11,
   "metadata": {},
   "outputs": [
    {
     "name": "stderr",
     "output_type": "stream",
     "text": [
      "C:\\Users\\kgerig\\AppData\\Local\\Continuum\\anaconda3\\envs\\nola-traffic\\lib\\site-packages\\sklearn\\utils\\deprecation.py:122: FutureWarning: You are accessing a training score ('split0_train_score'), which will not be available by default any more in 0.21. If you need training scores, please set return_train_score=True\n",
      "  warnings.warn(*warn_args, **warn_kwargs)\n",
      "C:\\Users\\kgerig\\AppData\\Local\\Continuum\\anaconda3\\envs\\nola-traffic\\lib\\site-packages\\sklearn\\utils\\deprecation.py:122: FutureWarning: You are accessing a training score ('split1_train_score'), which will not be available by default any more in 0.21. If you need training scores, please set return_train_score=True\n",
      "  warnings.warn(*warn_args, **warn_kwargs)\n",
      "C:\\Users\\kgerig\\AppData\\Local\\Continuum\\anaconda3\\envs\\nola-traffic\\lib\\site-packages\\sklearn\\utils\\deprecation.py:122: FutureWarning: You are accessing a training score ('split2_train_score'), which will not be available by default any more in 0.21. If you need training scores, please set return_train_score=True\n",
      "  warnings.warn(*warn_args, **warn_kwargs)\n",
      "C:\\Users\\kgerig\\AppData\\Local\\Continuum\\anaconda3\\envs\\nola-traffic\\lib\\site-packages\\sklearn\\utils\\deprecation.py:122: FutureWarning: You are accessing a training score ('mean_train_score'), which will not be available by default any more in 0.21. If you need training scores, please set return_train_score=True\n",
      "  warnings.warn(*warn_args, **warn_kwargs)\n",
      "C:\\Users\\kgerig\\AppData\\Local\\Continuum\\anaconda3\\envs\\nola-traffic\\lib\\site-packages\\sklearn\\utils\\deprecation.py:122: FutureWarning: You are accessing a training score ('std_train_score'), which will not be available by default any more in 0.21. If you need training scores, please set return_train_score=True\n",
      "  warnings.warn(*warn_args, **warn_kwargs)\n"
     ]
    },
    {
     "data": {
      "text/plain": [
       "{'mean_fit_time': array([120.66621788,  87.60306644,  96.56256827,  78.44037096,\n",
       "         74.28683305,  40.37229403,  75.38606469, 136.97877407,\n",
       "         71.52505724, 128.59401194, 127.26965404,  42.48784479,\n",
       "        163.46413962,  93.7450339 ,  37.33905435,  97.92983381,\n",
       "         96.39585861,  39.37368735, 105.36241134, 116.6183455 ]),\n",
       " 'std_fit_time': array([ 1.45931728,  3.28129836,  2.87981557,  5.40576849,  1.41437056,\n",
       "         0.41500699,  0.85944904,  1.79956527,  1.21318649,  0.74175885,\n",
       "         0.17845852,  0.58078096,  3.13106843,  1.8678011 ,  0.44073701,\n",
       "         0.90067101,  3.36640029,  0.72143021,  2.4995364 , 10.79367245]),\n",
       " 'mean_score_time': array([10.2519207 ,  4.54514138,  6.96466621,  3.31612643,  6.20296272,\n",
       "         2.08461634,  7.4802777 , 11.32890177,  5.93597444, 11.07315175,\n",
       "        10.09264167,  2.42751201, 14.13281298,  8.69779476,  4.45724034,\n",
       "         7.66253146,  9.32134477,  3.91333779,  8.52027877,  7.00508451]),\n",
       " 'std_score_time': array([0.03171942, 0.29477528, 0.23021357, 0.02538373, 0.06167999,\n",
       "        0.13093073, 0.21328426, 0.53138055, 0.37197037, 0.03976097,\n",
       "        0.18415815, 0.38580322, 1.05545958, 0.66536733, 0.47297227,\n",
       "        0.24893176, 1.01268259, 0.08500023, 0.14993561, 1.01399806]),\n",
       " 'param_n_estimators': masked_array(data=[125, 125, 75, 125, 75, 75, 75, 125, 75, 125, 125, 75,\n",
       "                    150, 125, 50, 125, 125, 50, 100, 125],\n",
       "              mask=[False, False, False, False, False, False, False, False,\n",
       "                    False, False, False, False, False, False, False, False,\n",
       "                    False, False, False, False],\n",
       "        fill_value='?',\n",
       "             dtype=object),\n",
       " 'param_min_samples_split': masked_array(data=[2, 5, 10, 2, 2, 2, 2, 2, 5, 5, 10, 10, 2, 5, 5, 10, 2,\n",
       "                    2, 10, 5],\n",
       "              mask=[False, False, False, False, False, False, False, False,\n",
       "                    False, False, False, False, False, False, False, False,\n",
       "                    False, False, False, False],\n",
       "        fill_value='?',\n",
       "             dtype=object),\n",
       " 'param_min_samples_leaf': masked_array(data=[2, 1, 1, 1, 2, 4, 1, 1, 4, 2, 1, 4, 1, 2, 1, 4, 2, 1,\n",
       "                    1, 4],\n",
       "              mask=[False, False, False, False, False, False, False, False,\n",
       "                    False, False, False, False, False, False, False, False,\n",
       "                    False, False, False, False],\n",
       "        fill_value='?',\n",
       "             dtype=object),\n",
       " 'param_max_features': masked_array(data=['sqrt', 'auto', 'auto', 'sqrt', 'sqrt', 'sqrt', 'auto',\n",
       "                    'auto', 'sqrt', 'auto', 'sqrt', 'auto', 'auto', 'sqrt',\n",
       "                    'auto', 'sqrt', 'sqrt', 'sqrt', 'auto', 'sqrt'],\n",
       "              mask=[False, False, False, False, False, False, False, False,\n",
       "                    False, False, False, False, False, False, False, False,\n",
       "                    False, False, False, False],\n",
       "        fill_value='?',\n",
       "             dtype=object),\n",
       " 'param_max_depth': masked_array(data=[100, 10, 55, 10, None, 10, None, None, None, 100, None,\n",
       "                    10, 32, 32, 100, 100, 77, None, 100, 77],\n",
       "              mask=[False, False, False, False, False, False, False, False,\n",
       "                    False, False, False, False, False, False, False, False,\n",
       "                    False, False, False, False],\n",
       "        fill_value='?',\n",
       "             dtype=object),\n",
       " 'param_bootstrap': masked_array(data=[True, False, False, False, False, False, False, False,\n",
       "                    False, False, False, False, False, True, True, True,\n",
       "                    True, True, False, False],\n",
       "              mask=[False, False, False, False, False, False, False, False,\n",
       "                    False, False, False, False, False, False, False, False,\n",
       "                    False, False, False, False],\n",
       "        fill_value='?',\n",
       "             dtype=object),\n",
       " 'params': [{'n_estimators': 125,\n",
       "   'min_samples_split': 2,\n",
       "   'min_samples_leaf': 2,\n",
       "   'max_features': 'sqrt',\n",
       "   'max_depth': 100,\n",
       "   'bootstrap': True},\n",
       "  {'n_estimators': 125,\n",
       "   'min_samples_split': 5,\n",
       "   'min_samples_leaf': 1,\n",
       "   'max_features': 'auto',\n",
       "   'max_depth': 10,\n",
       "   'bootstrap': False},\n",
       "  {'n_estimators': 75,\n",
       "   'min_samples_split': 10,\n",
       "   'min_samples_leaf': 1,\n",
       "   'max_features': 'auto',\n",
       "   'max_depth': 55,\n",
       "   'bootstrap': False},\n",
       "  {'n_estimators': 125,\n",
       "   'min_samples_split': 2,\n",
       "   'min_samples_leaf': 1,\n",
       "   'max_features': 'sqrt',\n",
       "   'max_depth': 10,\n",
       "   'bootstrap': False},\n",
       "  {'n_estimators': 75,\n",
       "   'min_samples_split': 2,\n",
       "   'min_samples_leaf': 2,\n",
       "   'max_features': 'sqrt',\n",
       "   'max_depth': None,\n",
       "   'bootstrap': False},\n",
       "  {'n_estimators': 75,\n",
       "   'min_samples_split': 2,\n",
       "   'min_samples_leaf': 4,\n",
       "   'max_features': 'sqrt',\n",
       "   'max_depth': 10,\n",
       "   'bootstrap': False},\n",
       "  {'n_estimators': 75,\n",
       "   'min_samples_split': 2,\n",
       "   'min_samples_leaf': 1,\n",
       "   'max_features': 'auto',\n",
       "   'max_depth': None,\n",
       "   'bootstrap': False},\n",
       "  {'n_estimators': 125,\n",
       "   'min_samples_split': 2,\n",
       "   'min_samples_leaf': 1,\n",
       "   'max_features': 'auto',\n",
       "   'max_depth': None,\n",
       "   'bootstrap': False},\n",
       "  {'n_estimators': 75,\n",
       "   'min_samples_split': 5,\n",
       "   'min_samples_leaf': 4,\n",
       "   'max_features': 'sqrt',\n",
       "   'max_depth': None,\n",
       "   'bootstrap': False},\n",
       "  {'n_estimators': 125,\n",
       "   'min_samples_split': 5,\n",
       "   'min_samples_leaf': 2,\n",
       "   'max_features': 'auto',\n",
       "   'max_depth': 100,\n",
       "   'bootstrap': False},\n",
       "  {'n_estimators': 125,\n",
       "   'min_samples_split': 10,\n",
       "   'min_samples_leaf': 1,\n",
       "   'max_features': 'sqrt',\n",
       "   'max_depth': None,\n",
       "   'bootstrap': False},\n",
       "  {'n_estimators': 75,\n",
       "   'min_samples_split': 10,\n",
       "   'min_samples_leaf': 4,\n",
       "   'max_features': 'auto',\n",
       "   'max_depth': 10,\n",
       "   'bootstrap': False},\n",
       "  {'n_estimators': 150,\n",
       "   'min_samples_split': 2,\n",
       "   'min_samples_leaf': 1,\n",
       "   'max_features': 'auto',\n",
       "   'max_depth': 32,\n",
       "   'bootstrap': False},\n",
       "  {'n_estimators': 125,\n",
       "   'min_samples_split': 5,\n",
       "   'min_samples_leaf': 2,\n",
       "   'max_features': 'sqrt',\n",
       "   'max_depth': 32,\n",
       "   'bootstrap': True},\n",
       "  {'n_estimators': 50,\n",
       "   'min_samples_split': 5,\n",
       "   'min_samples_leaf': 1,\n",
       "   'max_features': 'auto',\n",
       "   'max_depth': 100,\n",
       "   'bootstrap': True},\n",
       "  {'n_estimators': 125,\n",
       "   'min_samples_split': 10,\n",
       "   'min_samples_leaf': 4,\n",
       "   'max_features': 'sqrt',\n",
       "   'max_depth': 100,\n",
       "   'bootstrap': True},\n",
       "  {'n_estimators': 125,\n",
       "   'min_samples_split': 2,\n",
       "   'min_samples_leaf': 2,\n",
       "   'max_features': 'sqrt',\n",
       "   'max_depth': 77,\n",
       "   'bootstrap': True},\n",
       "  {'n_estimators': 50,\n",
       "   'min_samples_split': 2,\n",
       "   'min_samples_leaf': 1,\n",
       "   'max_features': 'sqrt',\n",
       "   'max_depth': None,\n",
       "   'bootstrap': True},\n",
       "  {'n_estimators': 100,\n",
       "   'min_samples_split': 10,\n",
       "   'min_samples_leaf': 1,\n",
       "   'max_features': 'auto',\n",
       "   'max_depth': 100,\n",
       "   'bootstrap': False},\n",
       "  {'n_estimators': 125,\n",
       "   'min_samples_split': 5,\n",
       "   'min_samples_leaf': 4,\n",
       "   'max_features': 'sqrt',\n",
       "   'max_depth': 77,\n",
       "   'bootstrap': False}],\n",
       " 'split0_test_score': array([0.83578056, 0.83556165, 0.8331032 , 0.83551956, 0.83030798,\n",
       "        0.83457659, 0.81571724, 0.8160877 , 0.83730446, 0.83146985,\n",
       "        0.8337094 , 0.83556165, 0.81775473, 0.83620994, 0.83259804,\n",
       "        0.83920723, 0.83591527, 0.8261825 , 0.83348208, 0.8376244 ]),\n",
       " 'split1_test_score': array([0.83755567, 0.838044  , 0.83478568, 0.83817871, 0.83183047,\n",
       "        0.83793455, 0.81602721, 0.81626296, 0.83875965, 0.83270609,\n",
       "        0.83482778, 0.83801874, 0.81787948, 0.83843971, 0.83348909,\n",
       "        0.8409487 , 0.83795139, 0.82671146, 0.83491197, 0.83894488]),\n",
       " 'split2_test_score': array([0.83795139, 0.83627592, 0.83445733, 0.83731993, 0.83291657,\n",
       "        0.83636853, 0.81621244, 0.8168439 , 0.83884384, 0.83417949,\n",
       "        0.83497933, 0.83718522, 0.81959705, 0.838044  , 0.8347941 ,\n",
       "        0.84087293, 0.83809452, 0.8263831 , 0.8347941 , 0.83915536]),\n",
       " 'mean_test_score': array([0.83709587, 0.83662719, 0.8341154 , 0.83700606, 0.831685  ,\n",
       "        0.83629322, 0.81598563, 0.81639818, 0.83830265, 0.83278514,\n",
       "        0.8345055 , 0.83692187, 0.81841042, 0.83756455, 0.83362708,\n",
       "        0.84034295, 0.83732039, 0.82642568, 0.83439605, 0.83857488]),\n",
       " 'std_test_score': array([0.000944  , 0.00104341, 0.00072818, 0.00110805, 0.00106991,\n",
       "        0.00137192, 0.00020429, 0.00032319, 0.00070667, 0.00110762,\n",
       "        0.00056632, 0.00102024, 0.00084062, 0.00097138, 0.00090183,\n",
       "        0.00080367, 0.00099529, 0.00021804, 0.00064807, 0.00067757]),\n",
       " 'rank_test_score': array([ 6,  9, 13,  7, 16, 10, 20, 19,  3, 15, 11,  8, 18,  4, 14,  1,  5,\n",
       "        17, 12,  2]),\n",
       " 'split0_train_score': array([0.93008933, 0.84057825, 0.95802076, 0.84044774, 0.98138466,\n",
       "        0.83933638, 0.99985266, 0.99985266, 0.91320839, 0.97419868,\n",
       "        0.95877009, 0.84002677, 0.99985266, 0.92164465, 0.95408889,\n",
       "        0.88054103, 0.92950839, 0.99927593, 0.95874904, 0.91307368]),\n",
       " 'split1_train_score': array([0.93091051, 0.83934127, 0.9587408 , 0.83961069, 0.98163311,\n",
       "        0.83902975, 0.99989055, 0.99989055, 0.91423171, 0.97479236,\n",
       "        0.95912388, 0.83869297, 0.99988634, 0.92226801, 0.95391649,\n",
       "        0.88080254, 0.93101576, 0.99928435, 0.95898917, 0.9139665 ]),\n",
       " 'split2_train_score': array([0.93071687, 0.83929917, 0.95876185, 0.84058734, 0.9814563 ,\n",
       "        0.83881927, 0.99986108, 0.99986108, 0.91498945, 0.97431666,\n",
       "        0.95921228, 0.83998956, 0.99984845, 0.92245324, 0.95443007,\n",
       "        0.88033947, 0.9303843 , 0.99911175, 0.95879131, 0.91439589]),\n",
       " 'mean_train_score': array([0.93057224, 0.83973956, 0.9585078 , 0.84021526, 0.98149136,\n",
       "        0.8390618 , 0.9998681 , 0.9998681 , 0.91414318, 0.9744359 ,\n",
       "        0.95903542, 0.83956977, 0.99986248, 0.92212197, 0.95414515,\n",
       "        0.88056101, 0.93030282, 0.99922401, 0.95884317, 0.91381202]),\n",
       " 'std_train_score': array([3.50499227e-04, 5.93288660e-04, 3.44495765e-04, 4.31276354e-04,\n",
       "        1.04414256e-04, 2.12324543e-04, 1.62437706e-05, 1.62437706e-05,\n",
       "        7.29806470e-04, 2.56613799e-04, 1.91053858e-04, 6.20173765e-04,\n",
       "        1.69554254e-05, 3.45882354e-04, 2.13409614e-04, 1.89573213e-04,\n",
       "        6.18071613e-04, 7.94524558e-05, 1.04665717e-04, 5.50731037e-04])}"
      ]
     },
     "execution_count": 11,
     "metadata": {},
     "output_type": "execute_result"
    }
   ],
   "source": [
    "rf_random.cv_results_"
   ]
  },
  {
   "cell_type": "code",
   "execution_count": 18,
   "metadata": {},
   "outputs": [],
   "source": [
    "def plot_results(model, param = 'n_estimators', name = 'Num Trees'):\n",
    "    param_name = 'param_%s' % param\n",
    "\n",
    "    # Extract information from the cross validation model\n",
    "    test_scores = model.cv_results_['mean_test_score']\n",
    "    param_values = list(model.cv_results_[param_name])\n",
    "    \n",
    "    # Plot the scores over the parameter\n",
    "    plt.plot(param_values, test_scores, 'go-', label = 'test')\n",
    "    plt.legend()\n",
    "    plt.xlabel(name)\n",
    "    plt.ylabel('Neg Mean Absolute Error')\n",
    "    plt.title('Score vs %s' % name)\n"
   ]
  },
  {
   "cell_type": "code",
   "execution_count": 16,
   "metadata": {},
   "outputs": [
    {
     "data": {
      "text/plain": [
       "'param_n_estimators'"
      ]
     },
     "execution_count": 16,
     "metadata": {},
     "output_type": "execute_result"
    }
   ],
   "source": [
    "'param_%s' % 'n_estimators'"
   ]
  },
  {
   "cell_type": "code",
   "execution_count": 20,
   "metadata": {},
   "outputs": [
    {
     "data": {
      "image/png": "[encoded data removed]",
      "text/plain": [
       "<Figure size 432x288 with 1 Axes>"
      ]
     },
     "metadata": {},
     "output_type": "display_data"
    }
   ],
   "source": [
    "plot_results(rf_random)"
   ]
  },
  {
   "cell_type": "code",
   "execution_count": 17,
   "metadata": {},
   "outputs": [
    {
     "data": {
      "text/plain": [
       "masked_array(data=[125, 125, 75, 125, 75, 75, 75, 125, 75, 125, 125, 75,\n",
       "                   150, 125, 50, 125, 125, 50, 100, 125],\n",
       "             mask=[False, False, False, False, False, False, False, False,\n",
       "                   False, False, False, False, False, False, False, False,\n",
       "                   False, False, False, False],\n",
       "       fill_value='?',\n",
       "            dtype=object)"
      ]
     },
     "execution_count": 17,
     "metadata": {},
     "output_type": "execute_result"
    }
   ],
   "source": [
    "#test_scores = rf_random.cv_results_['mean_test_score']\n",
    "rf_random.cv_results_['param_n_estimators']"
   ]
  },
  {
   "cell_type": "code",
   "execution_count": 13,
   "metadata": {},
   "outputs": [
    {
     "name": "stderr",
     "output_type": "stream",
     "text": [
      "C:\\Users\\kgerig\\AppData\\Local\\Continuum\\anaconda3\\envs\\nola-traffic\\lib\\site-packages\\sklearn\\utils\\deprecation.py:122: FutureWarning: You are accessing a training score ('mean_train_score'), which will not be available by default any more in 0.21. If you need training scores, please set return_train_score=True\n",
      "  warnings.warn(*warn_args, **warn_kwargs)\n"
     ]
    },
    {
     "data": {
      "image/png": "[encoded data removed]",
      "text/plain": [
       "<Figure size 720x432 with 2 Axes>"
      ]
     },
     "metadata": {},
     "output_type": "display_data"
    }
   ],
   "source": [
    "plot_results(rf_random)"
   ]
  },
  {
   "cell_type": "code",
   "execution_count": 16,
   "metadata": {},
   "outputs": [
    {
     "name": "stdout",
     "output_type": "stream",
     "text": [
      "{'bootstrap': True,\n",
      " 'max_depth': 100,\n",
      " 'max_features': 'sqrt',\n",
      " 'min_samples_leaf': 4,\n",
      " 'min_samples_split': 10,\n",
      " 'n_estimators': 125}\n"
     ]
    }
   ],
   "source": [
    "pprint(rf_random.best_params_)"
   ]
  },
  {
   "cell_type": "code",
   "execution_count": 17,
   "metadata": {},
   "outputs": [],
   "source": [
    "def evaluate(model, test_features, test_labels):\n",
    "    predictions = model.predict(test_features)\n",
    "    accuracy = 100 * metrics.accuracy_score(test_labels, predictions)\n",
    "    precision = 100 * metrics.precision_score(test_labels, predictions)\n",
    "    recall = 100 * metrics.recall_score(test_labels, predictions)\n",
    "\n",
    "    print('Model Performance')\n",
    "    print('Accuracy:\\t{:0.2f}%.'.format(accuracy))\n",
    "    print('Precision:\\t{:0.2f}%.'.format(precision))\n",
    "    print('Recall:\\t{:0.2f}%.'.format(recall))\n",
    "\n",
    "    return (accuracy, precision, recall)\n"
   ]
  },
  {
   "cell_type": "code",
   "execution_count": 18,
   "metadata": {},
   "outputs": [
    {
     "name": "stdout",
     "output_type": "stream",
     "text": [
      "Model Performance\n",
      "Accuracy:\t82.85%.\n",
      "Precision:\t68.07%.\n",
      "Recall:\t58.57%.\n"
     ]
    }
   ],
   "source": [
    "base_model = RandomForestClassifier(n_estimators=100, random_state=42)\n",
    "base_model.fit(X_train, y_train)\n",
    "base_performance = evaluate(base_model, X_test, y_test)"
   ]
  },
  {
   "cell_type": "code",
   "execution_count": 19,
   "metadata": {},
   "outputs": [
    {
     "name": "stdout",
     "output_type": "stream",
     "text": [
      "Model Performance\n",
      "Accuracy:\t84.23%.\n",
      "Precision:\t72.33%.\n",
      "Recall:\t59.33%.\n"
     ]
    }
   ],
   "source": [
    "best_random = rf_random.best_estimator_\n",
    "random_performance = evaluate(best_random, X_test, y_test)"
   ]
  },
  {
   "cell_type": "code",
   "execution_count": 20,
   "metadata": {},
   "outputs": [
    {
     "name": "stdout",
     "output_type": "stream",
     "text": [
      "Accuracy Improvement:\t1.66%.\n",
      "Precision Improvement:\t6.26%.\n",
      "Recall Improvement:\t1.30%.\n"
     ]
    }
   ],
   "source": [
    "improvement_accuracy = 100 * (random_performance[0] - base_performance[0]) / base_performance[0]\n",
    "improvement_precision = 100 * (random_performance[1] - base_performance[1]) / base_performance[1]\n",
    "improvement_recall = 100 * (random_performance[2] - base_performance[2]) / base_performance[2]\n",
    "\n",
    "print('Accuracy Improvement:\\t{:0.2f}%.'.format(improvement_accuracy))\n",
    "print('Precision Improvement:\\t{:0.2f}%.'.format(improvement_precision))\n",
    "print('Recall Improvement:\\t{:0.2f}%.'.format(improvement_recall))"
   ]
  },
  {
   "cell_type": "code",
   "execution_count": 21,
   "metadata": {},
   "outputs": [
    {
     "name": "stdout",
     "output_type": "stream",
     "text": [
      "road_length         0.402501\n",
      "class_major         0.153864\n",
      "class_local         0.125439\n",
      "temp                0.083956\n",
      "hour                0.077053\n",
      "wind_speed          0.057979\n",
      "daylight_yn         0.022670\n",
      "class_unimproved    0.015779\n",
      "class_freeway       0.015053\n",
      "precipitation       0.008216\n",
      "rush_hour_yn        0.006984\n",
      "day_Sunday          0.004691\n",
      "holiday_yn          0.004369\n",
      "day_Saturday        0.003611\n",
      "day_Tuesday         0.003165\n",
      "day_Monday          0.003143\n",
      "day_Wednesday       0.003131\n",
      "day_Thursday        0.003121\n",
      "day_Friday          0.003031\n",
      "class_other         0.002244\n",
      "dtype: float64\n"
     ]
    }
   ],
   "source": [
    "feature_importance_best = pd.Series(best_random.feature_importances_, index=X.columns).sort_values(ascending=False)\n",
    "print(feature_importance_best)"
   ]
  }
 ],
 "metadata": {
  "kernelspec": {
   "display_name": "Python 3",
   "language": "python",
   "name": "python3"
  },
  "language_info": {
   "codemirror_mode": {
    "name": "ipython",
    "version": 3
   },
   "file_extension": ".py",
   "mimetype": "text/x-python",
   "name": "python",
   "nbconvert_exporter": "python",
   "pygments_lexer": "ipython3",
   "version": "3.6.5"
  }
 },
 "nbformat": 4,
 "nbformat_minor": 2
}
