{
 "cells": [
  {
   "cell_type": "markdown",
   "metadata": {},
   "source": [
    "# Data\n",
    "\n",
    "## Temporal\n",
    "\n",
    "- Date\n",
    "- Hour\n",
    "- Light (y/n)\n",
    "- Holiday (y/n)\n",
    "- Rush Hour (y/n)\n",
    "\n",
    "## Weather\n",
    "\n",
    "- Temperature\n",
    "- Wind Speed\n",
    "- Precipitation Total\n",
    "\n",
    "## Road\n",
    "\n",
    "- Road Length\n",
    "- Road Type ('Class')\n",
    "    - Local (y/n)\n",
    "    - Major Arterial (y/n)\n",
    "    - Umimproved (y/n)\n",
    "    - Ramp (y/n)\n",
    "    - Freeway (y/n)\n",
    "    - Other (implied, do not create separate dummy var)\n",
    "- Construction Status (y/n)\n",
    "- Population Density (per neighborhood)\n",
    "- [Network Graph](https://networkx.github.io/documentation/networkx-1.10/reference/generated/networkx.readwrite.nx_shp.read_shp.html#networkx.readwrite.nx_shp.read_shp)\n"
   ]
  }
 ],
 "metadata": {
  "kernelspec": {
   "display_name": "Python 3",
   "language": "python",
   "name": "python3"
  },
  "language_info": {
   "codemirror_mode": {
    "name": "ipython",
    "version": 3
   },
   "file_extension": ".py",
   "mimetype": "text/x-python",
   "name": "python",
   "nbconvert_exporter": "python",
   "pygments_lexer": "ipython3",
   "version": "3.6.5"
  }
 },
 "nbformat": 4,
 "nbformat_minor": 2
}
