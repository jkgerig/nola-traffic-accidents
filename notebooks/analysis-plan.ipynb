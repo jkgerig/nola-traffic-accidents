{
 "cells": [
  {
   "cell_type": "markdown",
   "metadata": {},
   "source": [
    "# Data\n",
    "\n",
    "## Time\n",
    "\n",
    "- Date\n",
    "- Hour\n",
    "- Light (y/n)\n",
    "- Holiday (y/n)\n",
    "- Rush Hour (y/n)\n",
    "\n",
    "## Weather (per hour)\n",
    "\n",
    "- Temperature\n",
    "- Wind Speed\n",
    "- Precipitation Total\n",
    "\n",
    "## Road\n",
    "\n",
    "- Road Length\n",
    "- Road Type ('Class')\n",
    "    - Local (y/n)\n",
    "    - Major Arterial (y/n)\n",
    "    - Umimproved (y/n)\n",
    "    - Ramp (y/n)\n",
    "    - Freeway (y/n)\n",
    "    - Other (implied, do not create separate dummy var)\n",
    "- Construction Status (y/n)\n",
    "- Population Density (per neighborhood)"
   ]
  }
 ],
 "metadata": {
  "kernelspec": {
   "display_name": "Python 3",
   "language": "python",
   "name": "python3"
  },
  "language_info": {
   "codemirror_mode": {
    "name": "ipython",
    "version": 3
   },
   "file_extension": ".py",
   "mimetype": "text/x-python",
   "name": "python",
   "nbconvert_exporter": "python",
   "pygments_lexer": "ipython3",
   "version": "3.6.5"
  }
 },
 "nbformat": 4,
 "nbformat_minor": 2
}
